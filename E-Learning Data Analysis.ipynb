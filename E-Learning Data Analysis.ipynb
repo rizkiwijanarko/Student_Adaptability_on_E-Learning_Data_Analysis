{
 "cells": [
  {
   "metadata": {},
   "cell_type": "markdown",
   "source": "# DATA ANALYSIS PROJECT: ONLINE EDUCATION SYSTEM",
   "id": "b4f6fb96684ff78b"
  },
  {
   "metadata": {},
   "cell_type": "markdown",
   "source": "## Determining the Problems",
   "id": "c917f5d6afae75fb"
  },
  {
   "metadata": {},
   "cell_type": "markdown",
   "source": [
    "1. Bagaimana demografi dan latar belakang siswa yang menggunakan sistem pendidikan online?\n",
    "2. Bagaimana skor performa pembelajaran online siswa dalam berbagai status ekonomi dan lokasi rumah (perkotaan vs pedesaan)?\n",
    "3. Bagaimana kualitas fasilitas internet berdampak pada performa siswa secara keseluruhan?\n",
    "4. "
   ],
   "id": "4e01d4cb0f5dd2eb"
  },
  {
   "metadata": {},
   "cell_type": "markdown",
   "source": "## Importing Libraries",
   "id": "16aa18991ab37d62"
  },
  {
   "metadata": {
    "ExecuteTime": {
     "end_time": "2024-06-10T14:30:52.798090Z",
     "start_time": "2024-06-10T14:30:52.792132Z"
    }
   },
   "cell_type": "code",
   "source": [
    "import warnings\n",
    "import pandas as pd\n",
    "import numpy as np\n",
    "import matplotlib.pyplot as plt\n",
    "import matplotlib.ticker as mtick\n",
    "import seaborn as sns\n",
    "warnings.filterwarnings('ignore')"
   ],
   "id": "68360728d7a8453",
   "outputs": [],
   "execution_count": 75
  },
  {
   "metadata": {},
   "cell_type": "markdown",
   "source": "## Data Wrangling",
   "id": "e2f1e2807b280b68"
  },
  {
   "metadata": {},
   "cell_type": "markdown",
   "source": "### Loading the Data",
   "id": "76145d39d1287ff2"
  },
  {
   "metadata": {
    "ExecuteTime": {
     "end_time": "2024-06-10T14:30:53.294096Z",
     "start_time": "2024-06-10T14:30:53.281905Z"
    }
   },
   "cell_type": "code",
   "source": "df = pd.read_csv('Dataset/ONLINE EDUCATION SYSTEM REVIEW.csv')",
   "id": "5a1d6c5e0ae25d7c",
   "outputs": [],
   "execution_count": 76
  },
  {
   "metadata": {
    "ExecuteTime": {
     "end_time": "2024-06-10T14:30:53.554429Z",
     "start_time": "2024-06-10T14:30:53.537059Z"
    }
   },
   "cell_type": "code",
   "source": "df.head()",
   "id": "1d773648b4dc1b8c",
   "outputs": [
    {
     "data": {
      "text/plain": [
       "  Gender Home Location Level of Education  Age(Years)  Number of Subjects  \\\n",
       "0   Male         Urban     Under Graduate          18                  11   \n",
       "1   Male         Urban     Under Graduate          19                   7   \n",
       "2   Male         Rural     Under Graduate          18                   5   \n",
       "3   Male         Urban     Under Graduate          18                   5   \n",
       "4   Male         Rural     Under Graduate          18                   5   \n",
       "\n",
       "  Device type used to attend classes Economic status  Family size  \\\n",
       "0                             Laptop    Middle Class            4   \n",
       "1                             Laptop    Middle Class            4   \n",
       "2                             Laptop    Middle Class            5   \n",
       "3                             Laptop    Middle Class            4   \n",
       "4                             Laptop    Middle Class            4   \n",
       "\n",
       "   Internet facility in your locality Are you involved in any sports?  ...  \\\n",
       "0                                   5                              No  ...   \n",
       "1                                   1                             Yes  ...   \n",
       "2                                   2                              No  ...   \n",
       "3                                   4                             Yes  ...   \n",
       "4                                   3                              No  ...   \n",
       "\n",
       "  Time spent on social media (Hours)  Interested in Gaming?  \\\n",
       "0                                  1                     No   \n",
       "1                                  1                    Yes   \n",
       "2                                  1                     No   \n",
       "3                                  2                     No   \n",
       "4                                  2                    Yes   \n",
       "\n",
       "   Have separate room for studying?  Engaged in group studies?  \\\n",
       "0                                No                         No   \n",
       "1                               Yes                         No   \n",
       "2                               Yes                         No   \n",
       "3                                No                        yes   \n",
       "4                               Yes                        yes   \n",
       "\n",
       "  Average marks scored before pandemic in traditional classroom  \\\n",
       "0                                             91-100              \n",
       "1                                             91-100              \n",
       "2                                              71-80              \n",
       "3                                             91-100              \n",
       "4                                              81-90              \n",
       "\n",
       "  Your interaction in online mode  \\\n",
       "0                               1   \n",
       "1                               1   \n",
       "2                               1   \n",
       "3                               1   \n",
       "4                               3   \n",
       "\n",
       "  Clearing doubts with faculties in online mode Interested in?  \\\n",
       "0                                             1      Practical   \n",
       "1                                             1         Theory   \n",
       "2                                             1           Both   \n",
       "3                                             2         Theory   \n",
       "4                                             3           Both   \n",
       "\n",
       "   Performance in online  Your level of satisfaction in Online Education  \n",
       "0                      6                                         Average  \n",
       "1                      3                                             Bad  \n",
       "2                      6                                             Bad  \n",
       "3                      4                                             Bad  \n",
       "4                      6                                         Average  \n",
       "\n",
       "[5 rows x 23 columns]"
      ],
      "text/html": [
       "<div>\n",
       "<style scoped>\n",
       "    .dataframe tbody tr th:only-of-type {\n",
       "        vertical-align: middle;\n",
       "    }\n",
       "\n",
       "    .dataframe tbody tr th {\n",
       "        vertical-align: top;\n",
       "    }\n",
       "\n",
       "    .dataframe thead th {\n",
       "        text-align: right;\n",
       "    }\n",
       "</style>\n",
       "<table border=\"1\" class=\"dataframe\">\n",
       "  <thead>\n",
       "    <tr style=\"text-align: right;\">\n",
       "      <th></th>\n",
       "      <th>Gender</th>\n",
       "      <th>Home Location</th>\n",
       "      <th>Level of Education</th>\n",
       "      <th>Age(Years)</th>\n",
       "      <th>Number of Subjects</th>\n",
       "      <th>Device type used to attend classes</th>\n",
       "      <th>Economic status</th>\n",
       "      <th>Family size</th>\n",
       "      <th>Internet facility in your locality</th>\n",
       "      <th>Are you involved in any sports?</th>\n",
       "      <th>...</th>\n",
       "      <th>Time spent on social media (Hours)</th>\n",
       "      <th>Interested in Gaming?</th>\n",
       "      <th>Have separate room for studying?</th>\n",
       "      <th>Engaged in group studies?</th>\n",
       "      <th>Average marks scored before pandemic in traditional classroom</th>\n",
       "      <th>Your interaction in online mode</th>\n",
       "      <th>Clearing doubts with faculties in online mode</th>\n",
       "      <th>Interested in?</th>\n",
       "      <th>Performance in online</th>\n",
       "      <th>Your level of satisfaction in Online Education</th>\n",
       "    </tr>\n",
       "  </thead>\n",
       "  <tbody>\n",
       "    <tr>\n",
       "      <th>0</th>\n",
       "      <td>Male</td>\n",
       "      <td>Urban</td>\n",
       "      <td>Under Graduate</td>\n",
       "      <td>18</td>\n",
       "      <td>11</td>\n",
       "      <td>Laptop</td>\n",
       "      <td>Middle Class</td>\n",
       "      <td>4</td>\n",
       "      <td>5</td>\n",
       "      <td>No</td>\n",
       "      <td>...</td>\n",
       "      <td>1</td>\n",
       "      <td>No</td>\n",
       "      <td>No</td>\n",
       "      <td>No</td>\n",
       "      <td>91-100</td>\n",
       "      <td>1</td>\n",
       "      <td>1</td>\n",
       "      <td>Practical</td>\n",
       "      <td>6</td>\n",
       "      <td>Average</td>\n",
       "    </tr>\n",
       "    <tr>\n",
       "      <th>1</th>\n",
       "      <td>Male</td>\n",
       "      <td>Urban</td>\n",
       "      <td>Under Graduate</td>\n",
       "      <td>19</td>\n",
       "      <td>7</td>\n",
       "      <td>Laptop</td>\n",
       "      <td>Middle Class</td>\n",
       "      <td>4</td>\n",
       "      <td>1</td>\n",
       "      <td>Yes</td>\n",
       "      <td>...</td>\n",
       "      <td>1</td>\n",
       "      <td>Yes</td>\n",
       "      <td>Yes</td>\n",
       "      <td>No</td>\n",
       "      <td>91-100</td>\n",
       "      <td>1</td>\n",
       "      <td>1</td>\n",
       "      <td>Theory</td>\n",
       "      <td>3</td>\n",
       "      <td>Bad</td>\n",
       "    </tr>\n",
       "    <tr>\n",
       "      <th>2</th>\n",
       "      <td>Male</td>\n",
       "      <td>Rural</td>\n",
       "      <td>Under Graduate</td>\n",
       "      <td>18</td>\n",
       "      <td>5</td>\n",
       "      <td>Laptop</td>\n",
       "      <td>Middle Class</td>\n",
       "      <td>5</td>\n",
       "      <td>2</td>\n",
       "      <td>No</td>\n",
       "      <td>...</td>\n",
       "      <td>1</td>\n",
       "      <td>No</td>\n",
       "      <td>Yes</td>\n",
       "      <td>No</td>\n",
       "      <td>71-80</td>\n",
       "      <td>1</td>\n",
       "      <td>1</td>\n",
       "      <td>Both</td>\n",
       "      <td>6</td>\n",
       "      <td>Bad</td>\n",
       "    </tr>\n",
       "    <tr>\n",
       "      <th>3</th>\n",
       "      <td>Male</td>\n",
       "      <td>Urban</td>\n",
       "      <td>Under Graduate</td>\n",
       "      <td>18</td>\n",
       "      <td>5</td>\n",
       "      <td>Laptop</td>\n",
       "      <td>Middle Class</td>\n",
       "      <td>4</td>\n",
       "      <td>4</td>\n",
       "      <td>Yes</td>\n",
       "      <td>...</td>\n",
       "      <td>2</td>\n",
       "      <td>No</td>\n",
       "      <td>No</td>\n",
       "      <td>yes</td>\n",
       "      <td>91-100</td>\n",
       "      <td>1</td>\n",
       "      <td>2</td>\n",
       "      <td>Theory</td>\n",
       "      <td>4</td>\n",
       "      <td>Bad</td>\n",
       "    </tr>\n",
       "    <tr>\n",
       "      <th>4</th>\n",
       "      <td>Male</td>\n",
       "      <td>Rural</td>\n",
       "      <td>Under Graduate</td>\n",
       "      <td>18</td>\n",
       "      <td>5</td>\n",
       "      <td>Laptop</td>\n",
       "      <td>Middle Class</td>\n",
       "      <td>4</td>\n",
       "      <td>3</td>\n",
       "      <td>No</td>\n",
       "      <td>...</td>\n",
       "      <td>2</td>\n",
       "      <td>Yes</td>\n",
       "      <td>Yes</td>\n",
       "      <td>yes</td>\n",
       "      <td>81-90</td>\n",
       "      <td>3</td>\n",
       "      <td>3</td>\n",
       "      <td>Both</td>\n",
       "      <td>6</td>\n",
       "      <td>Average</td>\n",
       "    </tr>\n",
       "  </tbody>\n",
       "</table>\n",
       "<p>5 rows × 23 columns</p>\n",
       "</div>"
      ]
     },
     "execution_count": 77,
     "metadata": {},
     "output_type": "execute_result"
    }
   ],
   "execution_count": 77
  },
  {
   "metadata": {},
   "cell_type": "markdown",
   "source": "### Assessing the Data",
   "id": "a1500705d2615a58"
  },
  {
   "metadata": {
    "ExecuteTime": {
     "end_time": "2024-06-10T14:30:54.100087Z",
     "start_time": "2024-06-10T14:30:54.091059Z"
    }
   },
   "cell_type": "code",
   "source": "df.info()",
   "id": "eab727a6254c84fe",
   "outputs": [
    {
     "name": "stdout",
     "output_type": "stream",
     "text": [
      "<class 'pandas.core.frame.DataFrame'>\n",
      "RangeIndex: 1033 entries, 0 to 1032\n",
      "Data columns (total 23 columns):\n",
      " #   Column                                                         Non-Null Count  Dtype \n",
      "---  ------                                                         --------------  ----- \n",
      " 0   Gender                                                         1033 non-null   object\n",
      " 1   Home Location                                                  1033 non-null   object\n",
      " 2   Level of Education                                             1033 non-null   object\n",
      " 3   Age(Years)                                                     1033 non-null   int64 \n",
      " 4   Number of Subjects                                             1033 non-null   int64 \n",
      " 5   Device type used to attend classes                             1033 non-null   object\n",
      " 6   Economic status                                                1033 non-null   object\n",
      " 7   Family size                                                    1033 non-null   int64 \n",
      " 8   Internet facility in your locality                             1033 non-null   int64 \n",
      " 9   Are you involved in any sports?                                1033 non-null   object\n",
      " 10  Do elderly people monitor you?                                 1033 non-null   object\n",
      " 11  Study time (Hours)                                             1033 non-null   int64 \n",
      " 12  Sleep time (Hours)                                             1033 non-null   int64 \n",
      " 13  Time spent on social media (Hours)                             1033 non-null   int64 \n",
      " 14  Interested in Gaming?                                          1033 non-null   object\n",
      " 15  Have separate room for studying?                               1033 non-null   object\n",
      " 16  Engaged in group studies?                                      1033 non-null   object\n",
      " 17  Average marks scored before pandemic in traditional classroom  1033 non-null   object\n",
      " 18  Your interaction in online mode                                1033 non-null   int64 \n",
      " 19  Clearing doubts with faculties in online mode                  1033 non-null   int64 \n",
      " 20  Interested in?                                                 1033 non-null   object\n",
      " 21  Performance in online                                          1033 non-null   int64 \n",
      " 22  Your level of satisfaction in Online Education                 1033 non-null   object\n",
      "dtypes: int64(10), object(13)\n",
      "memory usage: 185.7+ KB\n"
     ]
    }
   ],
   "execution_count": 78
  },
  {
   "metadata": {},
   "cell_type": "markdown",
   "source": "Tipe data pada \"Average marks scored before pandemic in traditional classroom\" belum sesuai dengan tipe data yang seharusnya. Seharusnya tipe data tersebut adalah float, bukan object.",
   "id": "ee603470f6ff8571"
  },
  {
   "metadata": {
    "ExecuteTime": {
     "end_time": "2024-06-10T14:30:54.294369Z",
     "start_time": "2024-06-10T14:30:54.281937Z"
    }
   },
   "cell_type": "code",
   "source": "df.nunique()",
   "id": "88d1b4b961d9b19c",
   "outputs": [
    {
     "data": {
      "text/plain": [
       "Gender                                                            2\n",
       "Home Location                                                     2\n",
       "Level of Education                                                3\n",
       "Age(Years)                                                       24\n",
       "Number of Subjects                                               20\n",
       "Device type used to attend classes                                3\n",
       "Economic status                                                   3\n",
       "Family size                                                       9\n",
       "Internet facility in your locality                                5\n",
       "Are you involved in any sports?                                   2\n",
       "Do elderly people monitor you?                                    2\n",
       "Study time (Hours)                                               10\n",
       "Sleep time (Hours)                                               10\n",
       "Time spent on social media (Hours)                               10\n",
       "Interested in Gaming?                                             2\n",
       "Have separate room for studying?                                  2\n",
       "Engaged in group studies?                                         2\n",
       "Average marks scored before pandemic in traditional classroom    10\n",
       "Your interaction in online mode                                   5\n",
       "Clearing doubts with faculties in online mode                     5\n",
       "Interested in?                                                    3\n",
       "Performance in online                                             9\n",
       "Your level of satisfaction in Online Education                    3\n",
       "dtype: int64"
      ]
     },
     "execution_count": 79,
     "metadata": {},
     "output_type": "execute_result"
    }
   ],
   "execution_count": 79
  },
  {
   "metadata": {
    "ExecuteTime": {
     "end_time": "2024-06-10T14:30:54.478294Z",
     "start_time": "2024-06-10T14:30:54.461741Z"
    }
   },
   "cell_type": "code",
   "source": [
    "# Mengecek nilai null pada dataset\n",
    "df.isna().sum()"
   ],
   "id": "803ce165f37c9507",
   "outputs": [
    {
     "data": {
      "text/plain": [
       "Gender                                                           0\n",
       "Home Location                                                    0\n",
       "Level of Education                                               0\n",
       "Age(Years)                                                       0\n",
       "Number of Subjects                                               0\n",
       "Device type used to attend classes                               0\n",
       "Economic status                                                  0\n",
       "Family size                                                      0\n",
       "Internet facility in your locality                               0\n",
       "Are you involved in any sports?                                  0\n",
       "Do elderly people monitor you?                                   0\n",
       "Study time (Hours)                                               0\n",
       "Sleep time (Hours)                                               0\n",
       "Time spent on social media (Hours)                               0\n",
       "Interested in Gaming?                                            0\n",
       "Have separate room for studying?                                 0\n",
       "Engaged in group studies?                                        0\n",
       "Average marks scored before pandemic in traditional classroom    0\n",
       "Your interaction in online mode                                  0\n",
       "Clearing doubts with faculties in online mode                    0\n",
       "Interested in?                                                   0\n",
       "Performance in online                                            0\n",
       "Your level of satisfaction in Online Education                   0\n",
       "dtype: int64"
      ]
     },
     "execution_count": 80,
     "metadata": {},
     "output_type": "execute_result"
    }
   ],
   "execution_count": 80
  },
  {
   "metadata": {
    "ExecuteTime": {
     "end_time": "2024-06-10T14:30:54.708774Z",
     "start_time": "2024-06-10T14:30:54.692248Z"
    }
   },
   "cell_type": "code",
   "source": "print(\"Sum of duplicated rows: \", df.duplicated().sum())",
   "id": "dfd7778b125eeffc",
   "outputs": [
    {
     "name": "stdout",
     "output_type": "stream",
     "text": [
      "Sum of duplicated rows:  0\n"
     ]
    }
   ],
   "execution_count": 81
  },
  {
   "metadata": {
    "ExecuteTime": {
     "end_time": "2024-06-10T14:30:54.894490Z",
     "start_time": "2024-06-10T14:30:54.865033Z"
    }
   },
   "cell_type": "code",
   "source": "df.describe()",
   "id": "c08f0fade246ec7b",
   "outputs": [
    {
     "data": {
      "text/plain": [
       "        Age(Years)  Number of Subjects  Family size  \\\n",
       "count  1033.000000          1033.00000  1033.000000   \n",
       "mean     19.798645             7.03485     4.413359   \n",
       "std       3.199158             2.81034     1.236750   \n",
       "min       9.000000             1.00000     2.000000   \n",
       "25%      18.000000             6.00000     4.000000   \n",
       "50%      19.000000             7.00000     4.000000   \n",
       "75%      20.000000             8.00000     5.000000   \n",
       "max      40.000000            20.00000    10.000000   \n",
       "\n",
       "       Internet facility in your locality  Study time (Hours)  \\\n",
       "count                         1033.000000         1033.000000   \n",
       "mean                             3.586641            4.325266   \n",
       "std                              1.026063            2.134233   \n",
       "min                              1.000000            1.000000   \n",
       "25%                              3.000000            3.000000   \n",
       "50%                              4.000000            4.000000   \n",
       "75%                              4.000000            6.000000   \n",
       "max                              5.000000           10.000000   \n",
       "\n",
       "       Sleep time (Hours)  Time spent on social media (Hours)  \\\n",
       "count         1033.000000                         1033.000000   \n",
       "mean             6.947725                            2.636980   \n",
       "std              1.324039                            1.859625   \n",
       "min              1.000000                            1.000000   \n",
       "25%              6.000000                            1.000000   \n",
       "50%              7.000000                            2.000000   \n",
       "75%              8.000000                            3.000000   \n",
       "max             10.000000                           10.000000   \n",
       "\n",
       "       Your interaction in online mode  \\\n",
       "count                      1033.000000   \n",
       "mean                          2.930300   \n",
       "std                           1.105387   \n",
       "min                           1.000000   \n",
       "25%                           2.000000   \n",
       "50%                           3.000000   \n",
       "75%                           4.000000   \n",
       "max                           5.000000   \n",
       "\n",
       "       Clearing doubts with faculties in online mode  Performance in online  \n",
       "count                                    1033.000000            1033.000000  \n",
       "mean                                        2.833495               6.696031  \n",
       "std                                         1.163629               1.920048  \n",
       "min                                         1.000000               2.000000  \n",
       "25%                                         2.000000               6.000000  \n",
       "50%                                         3.000000               7.000000  \n",
       "75%                                         4.000000               8.000000  \n",
       "max                                         5.000000              10.000000  "
      ],
      "text/html": [
       "<div>\n",
       "<style scoped>\n",
       "    .dataframe tbody tr th:only-of-type {\n",
       "        vertical-align: middle;\n",
       "    }\n",
       "\n",
       "    .dataframe tbody tr th {\n",
       "        vertical-align: top;\n",
       "    }\n",
       "\n",
       "    .dataframe thead th {\n",
       "        text-align: right;\n",
       "    }\n",
       "</style>\n",
       "<table border=\"1\" class=\"dataframe\">\n",
       "  <thead>\n",
       "    <tr style=\"text-align: right;\">\n",
       "      <th></th>\n",
       "      <th>Age(Years)</th>\n",
       "      <th>Number of Subjects</th>\n",
       "      <th>Family size</th>\n",
       "      <th>Internet facility in your locality</th>\n",
       "      <th>Study time (Hours)</th>\n",
       "      <th>Sleep time (Hours)</th>\n",
       "      <th>Time spent on social media (Hours)</th>\n",
       "      <th>Your interaction in online mode</th>\n",
       "      <th>Clearing doubts with faculties in online mode</th>\n",
       "      <th>Performance in online</th>\n",
       "    </tr>\n",
       "  </thead>\n",
       "  <tbody>\n",
       "    <tr>\n",
       "      <th>count</th>\n",
       "      <td>1033.000000</td>\n",
       "      <td>1033.00000</td>\n",
       "      <td>1033.000000</td>\n",
       "      <td>1033.000000</td>\n",
       "      <td>1033.000000</td>\n",
       "      <td>1033.000000</td>\n",
       "      <td>1033.000000</td>\n",
       "      <td>1033.000000</td>\n",
       "      <td>1033.000000</td>\n",
       "      <td>1033.000000</td>\n",
       "    </tr>\n",
       "    <tr>\n",
       "      <th>mean</th>\n",
       "      <td>19.798645</td>\n",
       "      <td>7.03485</td>\n",
       "      <td>4.413359</td>\n",
       "      <td>3.586641</td>\n",
       "      <td>4.325266</td>\n",
       "      <td>6.947725</td>\n",
       "      <td>2.636980</td>\n",
       "      <td>2.930300</td>\n",
       "      <td>2.833495</td>\n",
       "      <td>6.696031</td>\n",
       "    </tr>\n",
       "    <tr>\n",
       "      <th>std</th>\n",
       "      <td>3.199158</td>\n",
       "      <td>2.81034</td>\n",
       "      <td>1.236750</td>\n",
       "      <td>1.026063</td>\n",
       "      <td>2.134233</td>\n",
       "      <td>1.324039</td>\n",
       "      <td>1.859625</td>\n",
       "      <td>1.105387</td>\n",
       "      <td>1.163629</td>\n",
       "      <td>1.920048</td>\n",
       "    </tr>\n",
       "    <tr>\n",
       "      <th>min</th>\n",
       "      <td>9.000000</td>\n",
       "      <td>1.00000</td>\n",
       "      <td>2.000000</td>\n",
       "      <td>1.000000</td>\n",
       "      <td>1.000000</td>\n",
       "      <td>1.000000</td>\n",
       "      <td>1.000000</td>\n",
       "      <td>1.000000</td>\n",
       "      <td>1.000000</td>\n",
       "      <td>2.000000</td>\n",
       "    </tr>\n",
       "    <tr>\n",
       "      <th>25%</th>\n",
       "      <td>18.000000</td>\n",
       "      <td>6.00000</td>\n",
       "      <td>4.000000</td>\n",
       "      <td>3.000000</td>\n",
       "      <td>3.000000</td>\n",
       "      <td>6.000000</td>\n",
       "      <td>1.000000</td>\n",
       "      <td>2.000000</td>\n",
       "      <td>2.000000</td>\n",
       "      <td>6.000000</td>\n",
       "    </tr>\n",
       "    <tr>\n",
       "      <th>50%</th>\n",
       "      <td>19.000000</td>\n",
       "      <td>7.00000</td>\n",
       "      <td>4.000000</td>\n",
       "      <td>4.000000</td>\n",
       "      <td>4.000000</td>\n",
       "      <td>7.000000</td>\n",
       "      <td>2.000000</td>\n",
       "      <td>3.000000</td>\n",
       "      <td>3.000000</td>\n",
       "      <td>7.000000</td>\n",
       "    </tr>\n",
       "    <tr>\n",
       "      <th>75%</th>\n",
       "      <td>20.000000</td>\n",
       "      <td>8.00000</td>\n",
       "      <td>5.000000</td>\n",
       "      <td>4.000000</td>\n",
       "      <td>6.000000</td>\n",
       "      <td>8.000000</td>\n",
       "      <td>3.000000</td>\n",
       "      <td>4.000000</td>\n",
       "      <td>4.000000</td>\n",
       "      <td>8.000000</td>\n",
       "    </tr>\n",
       "    <tr>\n",
       "      <th>max</th>\n",
       "      <td>40.000000</td>\n",
       "      <td>20.00000</td>\n",
       "      <td>10.000000</td>\n",
       "      <td>5.000000</td>\n",
       "      <td>10.000000</td>\n",
       "      <td>10.000000</td>\n",
       "      <td>10.000000</td>\n",
       "      <td>5.000000</td>\n",
       "      <td>5.000000</td>\n",
       "      <td>10.000000</td>\n",
       "    </tr>\n",
       "  </tbody>\n",
       "</table>\n",
       "</div>"
      ]
     },
     "execution_count": 82,
     "metadata": {},
     "output_type": "execute_result"
    }
   ],
   "execution_count": 82
  },
  {
   "metadata": {},
   "cell_type": "markdown",
   "source": "### Cleaning the Data",
   "id": "ac3ee7506108a00b"
  },
  {
   "metadata": {
    "ExecuteTime": {
     "end_time": "2024-06-10T14:30:55.168255Z",
     "start_time": "2024-06-10T14:30:55.151606Z"
    }
   },
   "cell_type": "code",
   "source": [
    "# Melihat entri \"Average marks scored before pandemic in traditional classroom\"\n",
    "df['Average marks scored before pandemic in traditional classroom'].head()"
   ],
   "id": "8b5904aea1fc63cd",
   "outputs": [
    {
     "data": {
      "text/plain": [
       "0    91-100\n",
       "1    91-100\n",
       "2     71-80\n",
       "3    91-100\n",
       "4     81-90\n",
       "Name: Average marks scored before pandemic in traditional classroom, dtype: object"
      ]
     },
     "execution_count": 83,
     "metadata": {},
     "output_type": "execute_result"
    }
   ],
   "execution_count": 83
  },
  {
   "metadata": {},
   "cell_type": "markdown",
   "source": [
    "- Data masih berupa object.\n",
    "- Terdapat nilai '-' yang tidak sesuai. Perlu juga mengganti data dengan mencari rerata antara 2 angka tersebut."
   ],
   "id": "9f84069ebd0cab2a"
  },
  {
   "metadata": {
    "ExecuteTime": {
     "end_time": "2024-06-10T14:30:55.551377Z",
     "start_time": "2024-06-10T14:30:55.547116Z"
    }
   },
   "cell_type": "code",
   "source": [
    "def calculate_mean(value):\n",
    "    # Split the string into two parts on the '-' character\n",
    "    values = value.split('-')\n",
    "    # Convert the parts to integers and calculate the mean\n",
    "    mean_value = (int(values[0]) + int(values[1])) / 2\n",
    "    return mean_value"
   ],
   "id": "c08f58a210116918",
   "outputs": [],
   "execution_count": 84
  },
  {
   "metadata": {
    "ExecuteTime": {
     "end_time": "2024-06-10T14:30:55.734832Z",
     "start_time": "2024-06-10T14:30:55.721821Z"
    }
   },
   "cell_type": "code",
   "source": [
    "# Mengaplikasikan fungsi untuk kolom tersebut\n",
    "df['Average marks scored before pandemic in traditional classroom_mean'] = df['Average marks scored before pandemic in traditional classroom'].apply(calculate_mean)"
   ],
   "id": "1566f83fc79c69cb",
   "outputs": [],
   "execution_count": 85
  },
  {
   "metadata": {
    "ExecuteTime": {
     "end_time": "2024-06-10T14:30:56.029369Z",
     "start_time": "2024-06-10T14:30:56.022040Z"
    }
   },
   "cell_type": "code",
   "source": [
    "# Melihat hasil perubahan\n",
    "df['Average marks scored before pandemic in traditional classroom_mean'].head()"
   ],
   "id": "be159957da6a839d",
   "outputs": [
    {
     "data": {
      "text/plain": [
       "0    95.5\n",
       "1    95.5\n",
       "2    75.5\n",
       "3    95.5\n",
       "4    85.5\n",
       "Name: Average marks scored before pandemic in traditional classroom_mean, dtype: float64"
      ]
     },
     "execution_count": 86,
     "metadata": {},
     "output_type": "execute_result"
    }
   ],
   "execution_count": 86
  },
  {
   "metadata": {
    "ExecuteTime": {
     "end_time": "2024-06-10T14:30:56.169059Z",
     "start_time": "2024-06-10T14:30:56.152079Z"
    }
   },
   "cell_type": "code",
   "source": "df.info()",
   "id": "ef1b7a0579960a28",
   "outputs": [
    {
     "name": "stdout",
     "output_type": "stream",
     "text": [
      "<class 'pandas.core.frame.DataFrame'>\n",
      "RangeIndex: 1033 entries, 0 to 1032\n",
      "Data columns (total 24 columns):\n",
      " #   Column                                                              Non-Null Count  Dtype  \n",
      "---  ------                                                              --------------  -----  \n",
      " 0   Gender                                                              1033 non-null   object \n",
      " 1   Home Location                                                       1033 non-null   object \n",
      " 2   Level of Education                                                  1033 non-null   object \n",
      " 3   Age(Years)                                                          1033 non-null   int64  \n",
      " 4   Number of Subjects                                                  1033 non-null   int64  \n",
      " 5   Device type used to attend classes                                  1033 non-null   object \n",
      " 6   Economic status                                                     1033 non-null   object \n",
      " 7   Family size                                                         1033 non-null   int64  \n",
      " 8   Internet facility in your locality                                  1033 non-null   int64  \n",
      " 9   Are you involved in any sports?                                     1033 non-null   object \n",
      " 10  Do elderly people monitor you?                                      1033 non-null   object \n",
      " 11  Study time (Hours)                                                  1033 non-null   int64  \n",
      " 12  Sleep time (Hours)                                                  1033 non-null   int64  \n",
      " 13  Time spent on social media (Hours)                                  1033 non-null   int64  \n",
      " 14  Interested in Gaming?                                               1033 non-null   object \n",
      " 15  Have separate room for studying?                                    1033 non-null   object \n",
      " 16  Engaged in group studies?                                           1033 non-null   object \n",
      " 17  Average marks scored before pandemic in traditional classroom       1033 non-null   object \n",
      " 18  Your interaction in online mode                                     1033 non-null   int64  \n",
      " 19  Clearing doubts with faculties in online mode                       1033 non-null   int64  \n",
      " 20  Interested in?                                                      1033 non-null   object \n",
      " 21  Performance in online                                               1033 non-null   int64  \n",
      " 22  Your level of satisfaction in Online Education                      1033 non-null   object \n",
      " 23  Average marks scored before pandemic in traditional classroom_mean  1033 non-null   float64\n",
      "dtypes: float64(1), int64(10), object(13)\n",
      "memory usage: 193.8+ KB\n"
     ]
    }
   ],
   "execution_count": 87
  },
  {
   "metadata": {
    "ExecuteTime": {
     "end_time": "2024-06-10T14:30:56.298531Z",
     "start_time": "2024-06-10T14:30:56.293914Z"
    }
   },
   "cell_type": "code",
   "source": [
    "# Menghapus kolom yang tidak diperlukan\n",
    "df.drop('Average marks scored before pandemic in traditional classroom', axis=1, inplace=True)"
   ],
   "id": "e95aa12a367e711c",
   "outputs": [],
   "execution_count": 88
  },
  {
   "metadata": {
    "ExecuteTime": {
     "end_time": "2024-06-10T14:30:56.473854Z",
     "start_time": "2024-06-10T14:30:56.452095Z"
    }
   },
   "cell_type": "code",
   "source": "df.head()",
   "id": "5874900a5fd39b5d",
   "outputs": [
    {
     "data": {
      "text/plain": [
       "  Gender Home Location Level of Education  Age(Years)  Number of Subjects  \\\n",
       "0   Male         Urban     Under Graduate          18                  11   \n",
       "1   Male         Urban     Under Graduate          19                   7   \n",
       "2   Male         Rural     Under Graduate          18                   5   \n",
       "3   Male         Urban     Under Graduate          18                   5   \n",
       "4   Male         Rural     Under Graduate          18                   5   \n",
       "\n",
       "  Device type used to attend classes Economic status  Family size  \\\n",
       "0                             Laptop    Middle Class            4   \n",
       "1                             Laptop    Middle Class            4   \n",
       "2                             Laptop    Middle Class            5   \n",
       "3                             Laptop    Middle Class            4   \n",
       "4                             Laptop    Middle Class            4   \n",
       "\n",
       "   Internet facility in your locality Are you involved in any sports?  ...  \\\n",
       "0                                   5                              No  ...   \n",
       "1                                   1                             Yes  ...   \n",
       "2                                   2                              No  ...   \n",
       "3                                   4                             Yes  ...   \n",
       "4                                   3                              No  ...   \n",
       "\n",
       "  Time spent on social media (Hours)  Interested in Gaming?  \\\n",
       "0                                  1                     No   \n",
       "1                                  1                    Yes   \n",
       "2                                  1                     No   \n",
       "3                                  2                     No   \n",
       "4                                  2                    Yes   \n",
       "\n",
       "   Have separate room for studying?  Engaged in group studies?  \\\n",
       "0                                No                         No   \n",
       "1                               Yes                         No   \n",
       "2                               Yes                         No   \n",
       "3                                No                        yes   \n",
       "4                               Yes                        yes   \n",
       "\n",
       "  Your interaction in online mode  \\\n",
       "0                               1   \n",
       "1                               1   \n",
       "2                               1   \n",
       "3                               1   \n",
       "4                               3   \n",
       "\n",
       "  Clearing doubts with faculties in online mode Interested in?  \\\n",
       "0                                             1      Practical   \n",
       "1                                             1         Theory   \n",
       "2                                             1           Both   \n",
       "3                                             2         Theory   \n",
       "4                                             3           Both   \n",
       "\n",
       "   Performance in online  Your level of satisfaction in Online Education  \\\n",
       "0                      6                                         Average   \n",
       "1                      3                                             Bad   \n",
       "2                      6                                             Bad   \n",
       "3                      4                                             Bad   \n",
       "4                      6                                         Average   \n",
       "\n",
       "  Average marks scored before pandemic in traditional classroom_mean  \n",
       "0                                               95.5                  \n",
       "1                                               95.5                  \n",
       "2                                               75.5                  \n",
       "3                                               95.5                  \n",
       "4                                               85.5                  \n",
       "\n",
       "[5 rows x 23 columns]"
      ],
      "text/html": [
       "<div>\n",
       "<style scoped>\n",
       "    .dataframe tbody tr th:only-of-type {\n",
       "        vertical-align: middle;\n",
       "    }\n",
       "\n",
       "    .dataframe tbody tr th {\n",
       "        vertical-align: top;\n",
       "    }\n",
       "\n",
       "    .dataframe thead th {\n",
       "        text-align: right;\n",
       "    }\n",
       "</style>\n",
       "<table border=\"1\" class=\"dataframe\">\n",
       "  <thead>\n",
       "    <tr style=\"text-align: right;\">\n",
       "      <th></th>\n",
       "      <th>Gender</th>\n",
       "      <th>Home Location</th>\n",
       "      <th>Level of Education</th>\n",
       "      <th>Age(Years)</th>\n",
       "      <th>Number of Subjects</th>\n",
       "      <th>Device type used to attend classes</th>\n",
       "      <th>Economic status</th>\n",
       "      <th>Family size</th>\n",
       "      <th>Internet facility in your locality</th>\n",
       "      <th>Are you involved in any sports?</th>\n",
       "      <th>...</th>\n",
       "      <th>Time spent on social media (Hours)</th>\n",
       "      <th>Interested in Gaming?</th>\n",
       "      <th>Have separate room for studying?</th>\n",
       "      <th>Engaged in group studies?</th>\n",
       "      <th>Your interaction in online mode</th>\n",
       "      <th>Clearing doubts with faculties in online mode</th>\n",
       "      <th>Interested in?</th>\n",
       "      <th>Performance in online</th>\n",
       "      <th>Your level of satisfaction in Online Education</th>\n",
       "      <th>Average marks scored before pandemic in traditional classroom_mean</th>\n",
       "    </tr>\n",
       "  </thead>\n",
       "  <tbody>\n",
       "    <tr>\n",
       "      <th>0</th>\n",
       "      <td>Male</td>\n",
       "      <td>Urban</td>\n",
       "      <td>Under Graduate</td>\n",
       "      <td>18</td>\n",
       "      <td>11</td>\n",
       "      <td>Laptop</td>\n",
       "      <td>Middle Class</td>\n",
       "      <td>4</td>\n",
       "      <td>5</td>\n",
       "      <td>No</td>\n",
       "      <td>...</td>\n",
       "      <td>1</td>\n",
       "      <td>No</td>\n",
       "      <td>No</td>\n",
       "      <td>No</td>\n",
       "      <td>1</td>\n",
       "      <td>1</td>\n",
       "      <td>Practical</td>\n",
       "      <td>6</td>\n",
       "      <td>Average</td>\n",
       "      <td>95.5</td>\n",
       "    </tr>\n",
       "    <tr>\n",
       "      <th>1</th>\n",
       "      <td>Male</td>\n",
       "      <td>Urban</td>\n",
       "      <td>Under Graduate</td>\n",
       "      <td>19</td>\n",
       "      <td>7</td>\n",
       "      <td>Laptop</td>\n",
       "      <td>Middle Class</td>\n",
       "      <td>4</td>\n",
       "      <td>1</td>\n",
       "      <td>Yes</td>\n",
       "      <td>...</td>\n",
       "      <td>1</td>\n",
       "      <td>Yes</td>\n",
       "      <td>Yes</td>\n",
       "      <td>No</td>\n",
       "      <td>1</td>\n",
       "      <td>1</td>\n",
       "      <td>Theory</td>\n",
       "      <td>3</td>\n",
       "      <td>Bad</td>\n",
       "      <td>95.5</td>\n",
       "    </tr>\n",
       "    <tr>\n",
       "      <th>2</th>\n",
       "      <td>Male</td>\n",
       "      <td>Rural</td>\n",
       "      <td>Under Graduate</td>\n",
       "      <td>18</td>\n",
       "      <td>5</td>\n",
       "      <td>Laptop</td>\n",
       "      <td>Middle Class</td>\n",
       "      <td>5</td>\n",
       "      <td>2</td>\n",
       "      <td>No</td>\n",
       "      <td>...</td>\n",
       "      <td>1</td>\n",
       "      <td>No</td>\n",
       "      <td>Yes</td>\n",
       "      <td>No</td>\n",
       "      <td>1</td>\n",
       "      <td>1</td>\n",
       "      <td>Both</td>\n",
       "      <td>6</td>\n",
       "      <td>Bad</td>\n",
       "      <td>75.5</td>\n",
       "    </tr>\n",
       "    <tr>\n",
       "      <th>3</th>\n",
       "      <td>Male</td>\n",
       "      <td>Urban</td>\n",
       "      <td>Under Graduate</td>\n",
       "      <td>18</td>\n",
       "      <td>5</td>\n",
       "      <td>Laptop</td>\n",
       "      <td>Middle Class</td>\n",
       "      <td>4</td>\n",
       "      <td>4</td>\n",
       "      <td>Yes</td>\n",
       "      <td>...</td>\n",
       "      <td>2</td>\n",
       "      <td>No</td>\n",
       "      <td>No</td>\n",
       "      <td>yes</td>\n",
       "      <td>1</td>\n",
       "      <td>2</td>\n",
       "      <td>Theory</td>\n",
       "      <td>4</td>\n",
       "      <td>Bad</td>\n",
       "      <td>95.5</td>\n",
       "    </tr>\n",
       "    <tr>\n",
       "      <th>4</th>\n",
       "      <td>Male</td>\n",
       "      <td>Rural</td>\n",
       "      <td>Under Graduate</td>\n",
       "      <td>18</td>\n",
       "      <td>5</td>\n",
       "      <td>Laptop</td>\n",
       "      <td>Middle Class</td>\n",
       "      <td>4</td>\n",
       "      <td>3</td>\n",
       "      <td>No</td>\n",
       "      <td>...</td>\n",
       "      <td>2</td>\n",
       "      <td>Yes</td>\n",
       "      <td>Yes</td>\n",
       "      <td>yes</td>\n",
       "      <td>3</td>\n",
       "      <td>3</td>\n",
       "      <td>Both</td>\n",
       "      <td>6</td>\n",
       "      <td>Average</td>\n",
       "      <td>85.5</td>\n",
       "    </tr>\n",
       "  </tbody>\n",
       "</table>\n",
       "<p>5 rows × 23 columns</p>\n",
       "</div>"
      ]
     },
     "execution_count": 89,
     "metadata": {},
     "output_type": "execute_result"
    }
   ],
   "execution_count": 89
  },
  {
   "metadata": {},
   "cell_type": "markdown",
   "source": "## Exploratory Data Analysis (EDA)",
   "id": "e617ef64f7664911"
  },
  {
   "metadata": {},
   "cell_type": "markdown",
   "source": "### 1. Bagaimana demografi dan latar belakang siswa yang menggunakan sistem pendidikan online?",
   "id": "22dd44a70b9e8b26"
  },
  {
   "metadata": {},
   "cell_type": "markdown",
   "source": [
    "Berdasarkan:\n",
    "- Gender\n",
    "- Lokasi rumah\n",
    "- Level Edukasi\n",
    "- Usia\n",
    "- Status Ekonomi\n"
   ],
   "id": "868d817aadfc9cf9"
  },
  {
   "metadata": {
    "ExecuteTime": {
     "end_time": "2024-06-10T14:30:57.761392Z",
     "start_time": "2024-06-10T14:30:57.741957Z"
    }
   },
   "cell_type": "code",
   "source": [
    "# Mengelompokkan data berdasarkan gender\n",
    "gender_data = df.groupby('Gender').size().reset_index(name='Jumlah')\n",
    "gender_data"
   ],
   "id": "e0dbea4dbcd0ac3b",
   "outputs": [
    {
     "data": {
      "text/plain": [
       "   Gender  Jumlah\n",
       "0  Female     419\n",
       "1    Male     614"
      ],
      "text/html": [
       "<div>\n",
       "<style scoped>\n",
       "    .dataframe tbody tr th:only-of-type {\n",
       "        vertical-align: middle;\n",
       "    }\n",
       "\n",
       "    .dataframe tbody tr th {\n",
       "        vertical-align: top;\n",
       "    }\n",
       "\n",
       "    .dataframe thead th {\n",
       "        text-align: right;\n",
       "    }\n",
       "</style>\n",
       "<table border=\"1\" class=\"dataframe\">\n",
       "  <thead>\n",
       "    <tr style=\"text-align: right;\">\n",
       "      <th></th>\n",
       "      <th>Gender</th>\n",
       "      <th>Jumlah</th>\n",
       "    </tr>\n",
       "  </thead>\n",
       "  <tbody>\n",
       "    <tr>\n",
       "      <th>0</th>\n",
       "      <td>Female</td>\n",
       "      <td>419</td>\n",
       "    </tr>\n",
       "    <tr>\n",
       "      <th>1</th>\n",
       "      <td>Male</td>\n",
       "      <td>614</td>\n",
       "    </tr>\n",
       "  </tbody>\n",
       "</table>\n",
       "</div>"
      ]
     },
     "execution_count": 90,
     "metadata": {},
     "output_type": "execute_result"
    }
   ],
   "execution_count": 90
  },
  {
   "metadata": {
    "ExecuteTime": {
     "end_time": "2024-06-10T14:30:58.043850Z",
     "start_time": "2024-06-10T14:30:58.031921Z"
    }
   },
   "cell_type": "code",
   "source": [
    "# Mengelompokkan data berdasarkan lokasi rumah\n",
    "location_data = df.groupby('Home Location').size().reset_index().rename(columns={'Home Location': 'Lokasi Rumah', 0: 'Jumlah'})\n",
    "\n",
    "location_data"
   ],
   "id": "f642af861e59991f",
   "outputs": [
    {
     "data": {
      "text/plain": [
       "  Lokasi Rumah  Jumlah\n",
       "0        Rural     354\n",
       "1        Urban     679"
      ],
      "text/html": [
       "<div>\n",
       "<style scoped>\n",
       "    .dataframe tbody tr th:only-of-type {\n",
       "        vertical-align: middle;\n",
       "    }\n",
       "\n",
       "    .dataframe tbody tr th {\n",
       "        vertical-align: top;\n",
       "    }\n",
       "\n",
       "    .dataframe thead th {\n",
       "        text-align: right;\n",
       "    }\n",
       "</style>\n",
       "<table border=\"1\" class=\"dataframe\">\n",
       "  <thead>\n",
       "    <tr style=\"text-align: right;\">\n",
       "      <th></th>\n",
       "      <th>Lokasi Rumah</th>\n",
       "      <th>Jumlah</th>\n",
       "    </tr>\n",
       "  </thead>\n",
       "  <tbody>\n",
       "    <tr>\n",
       "      <th>0</th>\n",
       "      <td>Rural</td>\n",
       "      <td>354</td>\n",
       "    </tr>\n",
       "    <tr>\n",
       "      <th>1</th>\n",
       "      <td>Urban</td>\n",
       "      <td>679</td>\n",
       "    </tr>\n",
       "  </tbody>\n",
       "</table>\n",
       "</div>"
      ]
     },
     "execution_count": 91,
     "metadata": {},
     "output_type": "execute_result"
    }
   ],
   "execution_count": 91
  },
  {
   "metadata": {
    "ExecuteTime": {
     "end_time": "2024-06-10T14:30:58.260947Z",
     "start_time": "2024-06-10T14:30:58.252033Z"
    }
   },
   "cell_type": "code",
   "source": [
    "# Mengelompokkkan data berdasarkan level edukasi\n",
    "education_data = df.groupby('Level of Education').size().reset_index().rename(columns={'Level of Education': 'Pendidikan', 0: 'Jumlah'})\n",
    "\n",
    "education_data"
   ],
   "id": "ecde79b845ba5795",
   "outputs": [
    {
     "data": {
      "text/plain": [
       "       Pendidikan  Jumlah\n",
       "0   Post Graduate     129\n",
       "1          School      87\n",
       "2  Under Graduate     817"
      ],
      "text/html": [
       "<div>\n",
       "<style scoped>\n",
       "    .dataframe tbody tr th:only-of-type {\n",
       "        vertical-align: middle;\n",
       "    }\n",
       "\n",
       "    .dataframe tbody tr th {\n",
       "        vertical-align: top;\n",
       "    }\n",
       "\n",
       "    .dataframe thead th {\n",
       "        text-align: right;\n",
       "    }\n",
       "</style>\n",
       "<table border=\"1\" class=\"dataframe\">\n",
       "  <thead>\n",
       "    <tr style=\"text-align: right;\">\n",
       "      <th></th>\n",
       "      <th>Pendidikan</th>\n",
       "      <th>Jumlah</th>\n",
       "    </tr>\n",
       "  </thead>\n",
       "  <tbody>\n",
       "    <tr>\n",
       "      <th>0</th>\n",
       "      <td>Post Graduate</td>\n",
       "      <td>129</td>\n",
       "    </tr>\n",
       "    <tr>\n",
       "      <th>1</th>\n",
       "      <td>School</td>\n",
       "      <td>87</td>\n",
       "    </tr>\n",
       "    <tr>\n",
       "      <th>2</th>\n",
       "      <td>Under Graduate</td>\n",
       "      <td>817</td>\n",
       "    </tr>\n",
       "  </tbody>\n",
       "</table>\n",
       "</div>"
      ]
     },
     "execution_count": 92,
     "metadata": {},
     "output_type": "execute_result"
    }
   ],
   "execution_count": 92
  },
  {
   "metadata": {
    "ExecuteTime": {
     "end_time": "2024-06-10T14:30:58.468583Z",
     "start_time": "2024-06-10T14:30:58.452189Z"
    }
   },
   "cell_type": "code",
   "source": [
    "# Mengelompokkan data berdasarkan usia\n",
    "age_data = df.groupby('Age(Years)').size().reset_index().rename(columns={'Age(Years)': 'Usia', 0: 'Jumlah'})\n",
    "\n",
    "age_data"
   ],
   "id": "4f6cb82d9c928549",
   "outputs": [
    {
     "data": {
      "text/plain": [
       "    Usia  Jumlah\n",
       "0      9       2\n",
       "1     12       2\n",
       "2     17      99\n",
       "3     18     220\n",
       "4     19     226\n",
       "5     20     249\n",
       "6     21     127\n",
       "7     22      39\n",
       "8     23      19\n",
       "9     24      14\n",
       "10    25       7\n",
       "11    26       3\n",
       "12    27       1\n",
       "13    28       1\n",
       "14    29       1\n",
       "15    30       1\n",
       "16    32       1\n",
       "17    34       3\n",
       "18    35       1\n",
       "19    36       2\n",
       "20    37       3\n",
       "21    38       1\n",
       "22    39       2\n",
       "23    40       9"
      ],
      "text/html": [
       "<div>\n",
       "<style scoped>\n",
       "    .dataframe tbody tr th:only-of-type {\n",
       "        vertical-align: middle;\n",
       "    }\n",
       "\n",
       "    .dataframe tbody tr th {\n",
       "        vertical-align: top;\n",
       "    }\n",
       "\n",
       "    .dataframe thead th {\n",
       "        text-align: right;\n",
       "    }\n",
       "</style>\n",
       "<table border=\"1\" class=\"dataframe\">\n",
       "  <thead>\n",
       "    <tr style=\"text-align: right;\">\n",
       "      <th></th>\n",
       "      <th>Usia</th>\n",
       "      <th>Jumlah</th>\n",
       "    </tr>\n",
       "  </thead>\n",
       "  <tbody>\n",
       "    <tr>\n",
       "      <th>0</th>\n",
       "      <td>9</td>\n",
       "      <td>2</td>\n",
       "    </tr>\n",
       "    <tr>\n",
       "      <th>1</th>\n",
       "      <td>12</td>\n",
       "      <td>2</td>\n",
       "    </tr>\n",
       "    <tr>\n",
       "      <th>2</th>\n",
       "      <td>17</td>\n",
       "      <td>99</td>\n",
       "    </tr>\n",
       "    <tr>\n",
       "      <th>3</th>\n",
       "      <td>18</td>\n",
       "      <td>220</td>\n",
       "    </tr>\n",
       "    <tr>\n",
       "      <th>4</th>\n",
       "      <td>19</td>\n",
       "      <td>226</td>\n",
       "    </tr>\n",
       "    <tr>\n",
       "      <th>5</th>\n",
       "      <td>20</td>\n",
       "      <td>249</td>\n",
       "    </tr>\n",
       "    <tr>\n",
       "      <th>6</th>\n",
       "      <td>21</td>\n",
       "      <td>127</td>\n",
       "    </tr>\n",
       "    <tr>\n",
       "      <th>7</th>\n",
       "      <td>22</td>\n",
       "      <td>39</td>\n",
       "    </tr>\n",
       "    <tr>\n",
       "      <th>8</th>\n",
       "      <td>23</td>\n",
       "      <td>19</td>\n",
       "    </tr>\n",
       "    <tr>\n",
       "      <th>9</th>\n",
       "      <td>24</td>\n",
       "      <td>14</td>\n",
       "    </tr>\n",
       "    <tr>\n",
       "      <th>10</th>\n",
       "      <td>25</td>\n",
       "      <td>7</td>\n",
       "    </tr>\n",
       "    <tr>\n",
       "      <th>11</th>\n",
       "      <td>26</td>\n",
       "      <td>3</td>\n",
       "    </tr>\n",
       "    <tr>\n",
       "      <th>12</th>\n",
       "      <td>27</td>\n",
       "      <td>1</td>\n",
       "    </tr>\n",
       "    <tr>\n",
       "      <th>13</th>\n",
       "      <td>28</td>\n",
       "      <td>1</td>\n",
       "    </tr>\n",
       "    <tr>\n",
       "      <th>14</th>\n",
       "      <td>29</td>\n",
       "      <td>1</td>\n",
       "    </tr>\n",
       "    <tr>\n",
       "      <th>15</th>\n",
       "      <td>30</td>\n",
       "      <td>1</td>\n",
       "    </tr>\n",
       "    <tr>\n",
       "      <th>16</th>\n",
       "      <td>32</td>\n",
       "      <td>1</td>\n",
       "    </tr>\n",
       "    <tr>\n",
       "      <th>17</th>\n",
       "      <td>34</td>\n",
       "      <td>3</td>\n",
       "    </tr>\n",
       "    <tr>\n",
       "      <th>18</th>\n",
       "      <td>35</td>\n",
       "      <td>1</td>\n",
       "    </tr>\n",
       "    <tr>\n",
       "      <th>19</th>\n",
       "      <td>36</td>\n",
       "      <td>2</td>\n",
       "    </tr>\n",
       "    <tr>\n",
       "      <th>20</th>\n",
       "      <td>37</td>\n",
       "      <td>3</td>\n",
       "    </tr>\n",
       "    <tr>\n",
       "      <th>21</th>\n",
       "      <td>38</td>\n",
       "      <td>1</td>\n",
       "    </tr>\n",
       "    <tr>\n",
       "      <th>22</th>\n",
       "      <td>39</td>\n",
       "      <td>2</td>\n",
       "    </tr>\n",
       "    <tr>\n",
       "      <th>23</th>\n",
       "      <td>40</td>\n",
       "      <td>9</td>\n",
       "    </tr>\n",
       "  </tbody>\n",
       "</table>\n",
       "</div>"
      ]
     },
     "execution_count": 93,
     "metadata": {},
     "output_type": "execute_result"
    }
   ],
   "execution_count": 93
  },
  {
   "metadata": {
    "ExecuteTime": {
     "end_time": "2024-06-10T14:30:58.746453Z",
     "start_time": "2024-06-10T14:30:58.731706Z"
    }
   },
   "cell_type": "code",
   "source": [
    "# Mengelompokkan data berdasarkan status ekonomi\n",
    "economic_data = df.groupby('Economic status').size().reset_index().rename(columns={'Economic status': 'Status Ekonomi', 0: 'Jumlah'})\n",
    "\n",
    "economic_data"
   ],
   "id": "a5ddd4f8c917e9e9",
   "outputs": [
    {
     "data": {
      "text/plain": [
       "  Status Ekonomi  Jumlah\n",
       "0   Middle Class     954\n",
       "1           Poor      49\n",
       "2           Rich      30"
      ],
      "text/html": [
       "<div>\n",
       "<style scoped>\n",
       "    .dataframe tbody tr th:only-of-type {\n",
       "        vertical-align: middle;\n",
       "    }\n",
       "\n",
       "    .dataframe tbody tr th {\n",
       "        vertical-align: top;\n",
       "    }\n",
       "\n",
       "    .dataframe thead th {\n",
       "        text-align: right;\n",
       "    }\n",
       "</style>\n",
       "<table border=\"1\" class=\"dataframe\">\n",
       "  <thead>\n",
       "    <tr style=\"text-align: right;\">\n",
       "      <th></th>\n",
       "      <th>Status Ekonomi</th>\n",
       "      <th>Jumlah</th>\n",
       "    </tr>\n",
       "  </thead>\n",
       "  <tbody>\n",
       "    <tr>\n",
       "      <th>0</th>\n",
       "      <td>Middle Class</td>\n",
       "      <td>954</td>\n",
       "    </tr>\n",
       "    <tr>\n",
       "      <th>1</th>\n",
       "      <td>Poor</td>\n",
       "      <td>49</td>\n",
       "    </tr>\n",
       "    <tr>\n",
       "      <th>2</th>\n",
       "      <td>Rich</td>\n",
       "      <td>30</td>\n",
       "    </tr>\n",
       "  </tbody>\n",
       "</table>\n",
       "</div>"
      ]
     },
     "execution_count": 94,
     "metadata": {},
     "output_type": "execute_result"
    }
   ],
   "execution_count": 94
  },
  {
   "metadata": {},
   "cell_type": "markdown",
   "source": "### 2. Bagaimana skor performa pembelajaran online siswa dalam berbagai status ekonomi dan lokasi rumah (perkotaan vs pedesaan)?",
   "id": "81f7737eca312986"
  },
  {
   "metadata": {
    "ExecuteTime": {
     "end_time": "2024-06-10T14:39:50.993278Z",
     "start_time": "2024-06-10T14:39:50.921750Z"
    }
   },
   "cell_type": "code",
   "source": [
    "# Mengelompokkan data berdasarkan status ekonomi dan lokasi rumah\n",
    "df['Economic status'] = pd.Categorical(df['Economic status'], categories=['Poor', 'Middle Class', 'Rich'], ordered=True)\n",
    "\n",
    "performance_data = (df.groupby(['Economic status', 'Home Location'])\n",
    "                    .agg({'Performance in online': 'mean'})\n",
    "                    .reset_index().sort_values('Economic status', ascending=True)\n",
    "                    .rename(columns={\n",
    "    'Performance in online': 'Rata-rata Performa Online',\n",
    "    'Economic status': 'Status Ekonomi',\n",
    "    'Home Location': 'Lokasi Rumah'\n",
    "}))\n",
    "\n",
    "performance_data"
   ],
   "id": "b013b97c51d29a89",
   "outputs": [
    {
     "data": {
      "text/plain": [
       "  Status Ekonomi Lokasi Rumah  Rata-rata Performa Online\n",
       "0           Poor        Rural                   6.485714\n",
       "1           Poor        Urban                   6.071429\n",
       "2   Middle Class        Rural                   6.721519\n",
       "3   Middle Class        Urban                   6.680251\n",
       "4           Rich        Rural                   9.000000\n",
       "5           Rich        Urban                   7.111111"
      ],
      "text/html": [
       "<div>\n",
       "<style scoped>\n",
       "    .dataframe tbody tr th:only-of-type {\n",
       "        vertical-align: middle;\n",
       "    }\n",
       "\n",
       "    .dataframe tbody tr th {\n",
       "        vertical-align: top;\n",
       "    }\n",
       "\n",
       "    .dataframe thead th {\n",
       "        text-align: right;\n",
       "    }\n",
       "</style>\n",
       "<table border=\"1\" class=\"dataframe\">\n",
       "  <thead>\n",
       "    <tr style=\"text-align: right;\">\n",
       "      <th></th>\n",
       "      <th>Status Ekonomi</th>\n",
       "      <th>Lokasi Rumah</th>\n",
       "      <th>Rata-rata Performa Online</th>\n",
       "    </tr>\n",
       "  </thead>\n",
       "  <tbody>\n",
       "    <tr>\n",
       "      <th>0</th>\n",
       "      <td>Poor</td>\n",
       "      <td>Rural</td>\n",
       "      <td>6.485714</td>\n",
       "    </tr>\n",
       "    <tr>\n",
       "      <th>1</th>\n",
       "      <td>Poor</td>\n",
       "      <td>Urban</td>\n",
       "      <td>6.071429</td>\n",
       "    </tr>\n",
       "    <tr>\n",
       "      <th>2</th>\n",
       "      <td>Middle Class</td>\n",
       "      <td>Rural</td>\n",
       "      <td>6.721519</td>\n",
       "    </tr>\n",
       "    <tr>\n",
       "      <th>3</th>\n",
       "      <td>Middle Class</td>\n",
       "      <td>Urban</td>\n",
       "      <td>6.680251</td>\n",
       "    </tr>\n",
       "    <tr>\n",
       "      <th>4</th>\n",
       "      <td>Rich</td>\n",
       "      <td>Rural</td>\n",
       "      <td>9.000000</td>\n",
       "    </tr>\n",
       "    <tr>\n",
       "      <th>5</th>\n",
       "      <td>Rich</td>\n",
       "      <td>Urban</td>\n",
       "      <td>7.111111</td>\n",
       "    </tr>\n",
       "  </tbody>\n",
       "</table>\n",
       "</div>"
      ]
     },
     "execution_count": 112,
     "metadata": {},
     "output_type": "execute_result"
    }
   ],
   "execution_count": 112
  },
  {
   "metadata": {},
   "cell_type": "markdown",
   "source": "### 3. Bagaimana kualitas fasilitas internet berdampak pada performa siswa secara keseluruhan?",
   "id": "eab9764a292460d1"
  },
  {
   "metadata": {
    "ExecuteTime": {
     "end_time": "2024-06-10T14:30:59.634057Z",
     "start_time": "2024-06-10T14:30:59.622065Z"
    }
   },
   "cell_type": "code",
   "source": [
    "# Mengelompokkan data berdasarkan kualitas fasilitas internet\n",
    "internet_facility_data = (df.groupby('Internet facility in your locality')\n",
    "                          .agg({'Performance in online': 'mean'})\n",
    "                          .reset_index()\n",
    "                          .rename(columns={\n",
    "    \n",
    "    'Internet facility in your locality': 'Kualitas Fasilitas Internet (skala 1-5)',\n",
    "    'Performance in online': 'Rata-rata Performa Online'\n",
    "}))\n",
    "\n",
    "internet_facility_data"
   ],
   "id": "b5ee4f8feaa8746d",
   "outputs": [
    {
     "data": {
      "text/plain": [
       "   Kualitas Fasilitas Internet (skala 1-5)  Rata-rata Performa Online\n",
       "0                                        1                   5.562500\n",
       "1                                        2                   6.155963\n",
       "2                                        3                   6.279141\n",
       "3                                        4                   6.895184\n",
       "4                                        5                   7.450704"
      ],
      "text/html": [
       "<div>\n",
       "<style scoped>\n",
       "    .dataframe tbody tr th:only-of-type {\n",
       "        vertical-align: middle;\n",
       "    }\n",
       "\n",
       "    .dataframe tbody tr th {\n",
       "        vertical-align: top;\n",
       "    }\n",
       "\n",
       "    .dataframe thead th {\n",
       "        text-align: right;\n",
       "    }\n",
       "</style>\n",
       "<table border=\"1\" class=\"dataframe\">\n",
       "  <thead>\n",
       "    <tr style=\"text-align: right;\">\n",
       "      <th></th>\n",
       "      <th>Kualitas Fasilitas Internet (skala 1-5)</th>\n",
       "      <th>Rata-rata Performa Online</th>\n",
       "    </tr>\n",
       "  </thead>\n",
       "  <tbody>\n",
       "    <tr>\n",
       "      <th>0</th>\n",
       "      <td>1</td>\n",
       "      <td>5.562500</td>\n",
       "    </tr>\n",
       "    <tr>\n",
       "      <th>1</th>\n",
       "      <td>2</td>\n",
       "      <td>6.155963</td>\n",
       "    </tr>\n",
       "    <tr>\n",
       "      <th>2</th>\n",
       "      <td>3</td>\n",
       "      <td>6.279141</td>\n",
       "    </tr>\n",
       "    <tr>\n",
       "      <th>3</th>\n",
       "      <td>4</td>\n",
       "      <td>6.895184</td>\n",
       "    </tr>\n",
       "    <tr>\n",
       "      <th>4</th>\n",
       "      <td>5</td>\n",
       "      <td>7.450704</td>\n",
       "    </tr>\n",
       "  </tbody>\n",
       "</table>\n",
       "</div>"
      ]
     },
     "execution_count": 96,
     "metadata": {},
     "output_type": "execute_result"
    }
   ],
   "execution_count": 96
  },
  {
   "metadata": {},
   "cell_type": "markdown",
   "source": "## Data Visualization",
   "id": "456159089d99ac70"
  },
  {
   "metadata": {},
   "cell_type": "markdown",
   "source": "",
   "id": "eb9994c2b3a72dd5"
  },
  {
   "metadata": {},
   "cell_type": "markdown",
   "source": "### Bagaimana demografi dan latar belakang siswa yang menggunakan sistem pendidikan online?",
   "id": "7fcba3a9849554"
  },
  {
   "metadata": {},
   "cell_type": "markdown",
   "source": "*Gender*",
   "id": "2cc3c3b8ed87ce2d"
  },
  {
   "metadata": {
    "ExecuteTime": {
     "end_time": "2024-06-10T14:31:00.364851Z",
     "start_time": "2024-06-10T14:31:00.357419Z"
    }
   },
   "cell_type": "code",
   "source": [
    "# Menghitung jumlah siswa berdasarkan Gender\n",
    "gender_df = df['Gender'].value_counts()\n",
    "gender_df.rename(index={'Male' : \"Pria\", \"Female\": \"Wanita\"}, inplace=True)"
   ],
   "id": "a79243ab036a1135",
   "outputs": [],
   "execution_count": 97
  },
  {
   "metadata": {
    "ExecuteTime": {
     "end_time": "2024-06-10T14:31:00.884701Z",
     "start_time": "2024-06-10T14:31:00.722351Z"
    }
   },
   "cell_type": "code",
   "source": [
    "# Plotting pie chart\n",
    "plt.figure(figsize=(10, 6))\n",
    "plt.pie(gender_df, labels=gender_df.index, autopct='%1.1f%%', startangle=90, colors=['#ff9999', '#66b3ff'])\n",
    "plt.title(\"Persentase Siswa Berdasarkan Gender\")\n",
    "plt.show()"
   ],
   "id": "5302222a3efab1c9",
   "outputs": [
    {
     "data": {
      "text/plain": [
       "<Figure size 1000x600 with 1 Axes>"
      ],
      "image/png": "[encoded data removed]"
     },
     "metadata": {},
     "output_type": "display_data"
    }
   ],
   "execution_count": 98
  },
  {
   "metadata": {},
   "cell_type": "markdown",
   "source": "*Lokasi Rumah*",
   "id": "29dfc3c734952968"
  },
  {
   "metadata": {
    "ExecuteTime": {
     "end_time": "2024-06-10T14:31:02.272238Z",
     "start_time": "2024-06-10T14:31:02.266225Z"
    }
   },
   "cell_type": "code",
   "source": [
    "location_df = df['Home Location'].value_counts()\n",
    "location_df.rename(index={'Urban': 'Perkotaan', 'Rural': 'Pedesaan'}, inplace=True)"
   ],
   "id": "f6d482fff6c151d4",
   "outputs": [],
   "execution_count": 99
  },
  {
   "metadata": {
    "ExecuteTime": {
     "end_time": "2024-06-10T14:31:02.999577Z",
     "start_time": "2024-06-10T14:31:02.921840Z"
    }
   },
   "cell_type": "code",
   "source": [
    "# Plotting pie chart\n",
    "plt.figure(figsize=(10, 6))\n",
    "plt.pie(location_df, labels=location_df.index, autopct='%1.1f%%', startangle=90, colors=['#ff9999', '#66b3ff'])\n",
    "plt.title(\"Persentase Siswa Berdasarkan Lokasi Rumah\")\n",
    "plt.show()"
   ],
   "id": "ac06741d3f941897",
   "outputs": [
    {
     "data": {
      "text/plain": [
       "<Figure size 1000x600 with 1 Axes>"
      ],
      "image/png": "[encoded data removed]"
     },
     "metadata": {},
     "output_type": "display_data"
    }
   ],
   "execution_count": 100
  },
  {
   "metadata": {},
   "cell_type": "markdown",
   "source": "*Tingkat Edukasi*",
   "id": "b871b649b97f7348"
  },
  {
   "metadata": {
    "ExecuteTime": {
     "end_time": "2024-06-10T14:31:04.314439Z",
     "start_time": "2024-06-10T14:31:04.302731Z"
    }
   },
   "cell_type": "code",
   "source": "education_df = df['Level of Education'].value_counts()",
   "id": "5ca21064d7033ac8",
   "outputs": [],
   "execution_count": 101
  },
  {
   "metadata": {
    "ExecuteTime": {
     "end_time": "2024-06-10T14:31:04.895443Z",
     "start_time": "2024-06-10T14:31:04.714691Z"
    }
   },
   "cell_type": "code",
   "source": [
    "# Visualisasi\n",
    "plt.figure(figsize=(10, 6))\n",
    "sns.barplot(hue=education_df.index, y=education_df.values, palette='viridis')\n",
    "plt.title(\"Jumlah Siswa Berdasarkan Tingkat Edukasi\")\n",
    "plt.xlabel(\"Tingkat Edukasi\")\n",
    "plt.ylabel(\"Jumlah\")\n",
    "plt.show()"
   ],
   "id": "ee1bd1237645dd59",
   "outputs": [
    {
     "data": {
      "text/plain": [
       "<Figure size 1000x600 with 1 Axes>"
      ],
      "image/png": "[encoded data removed]"
     },
     "metadata": {},
     "output_type": "display_data"
    }
   ],
   "execution_count": 102
  },
  {
   "metadata": {},
   "cell_type": "markdown",
   "source": "*Usia*",
   "id": "b22c938aecb76af4"
  },
  {
   "metadata": {
    "ExecuteTime": {
     "end_time": "2024-06-10T14:31:05.802772Z",
     "start_time": "2024-06-10T14:31:05.792009Z"
    }
   },
   "cell_type": "code",
   "source": "age_df = df['Age(Years)'].value_counts().sort_index()",
   "id": "b7d3ac035544984c",
   "outputs": [],
   "execution_count": 103
  },
  {
   "metadata": {
    "ExecuteTime": {
     "end_time": "2024-06-10T14:31:06.935954Z",
     "start_time": "2024-06-10T14:31:06.182016Z"
    }
   },
   "cell_type": "code",
   "source": [
    "# Visualisasi\n",
    "plt.figure(figsize=(10, 6))\n",
    "sns.barplot(x=age_df.index, y=age_df.values, palette='viridis')\n",
    "plt.title(\"Jumlah Siswa Berdasarkan Usia\")\n",
    "plt.xlabel(\"Usia\")\n",
    "plt.ylabel(\"Jumlah\")\n",
    "plt.show()"
   ],
   "id": "43cb38390d74a5e",
   "outputs": [
    {
     "data": {
      "text/plain": [
       "<Figure size 1000x600 with 1 Axes>"
      ],
      "image/png": "[encoded data removed]"
     },
     "metadata": {},
     "output_type": "display_data"
    }
   ],
   "execution_count": 104
  },
  {
   "metadata": {},
   "cell_type": "markdown",
   "source": "*Status Ekonomi*",
   "id": "7f4388699eef4c96"
  },
  {
   "metadata": {
    "ExecuteTime": {
     "end_time": "2024-06-10T14:31:07.547289Z",
     "start_time": "2024-06-10T14:31:07.542192Z"
    }
   },
   "cell_type": "code",
   "source": "economic_df = df['Economic status'].value_counts()",
   "id": "29ead619cc9d86c4",
   "outputs": [],
   "execution_count": 105
  },
  {
   "metadata": {
    "ExecuteTime": {
     "end_time": "2024-06-10T14:31:08.265847Z",
     "start_time": "2024-06-10T14:31:08.124824Z"
    }
   },
   "cell_type": "code",
   "source": [
    "# Visualisasi\n",
    "plt.figure(figsize=(10, 6))\n",
    "sns.barplot(x=economic_df.index, y=economic_df.values, palette='viridis')\n",
    "plt.title(\"Jumlah Siswa Berdasarkan Status Ekonomi\")\n",
    "plt.xlabel(\"Status Ekonomi\")\n",
    "plt.ylabel(\"Jumlah\")\n",
    "plt.show()"
   ],
   "id": "57e5de60540ef312",
   "outputs": [
    {
     "data": {
      "text/plain": [
       "<Figure size 1000x600 with 1 Axes>"
      ],
      "image/png": "[encoded data removed]"
     },
     "metadata": {},
     "output_type": "display_data"
    }
   ],
   "execution_count": 106
  },
  {
   "metadata": {},
   "cell_type": "markdown",
   "source": "### Bagaimana skor performa pembelajaran online siswa dalam berbagai status ekonomi dan lokasi rumah (perkotaan vs pedesaan)?",
   "id": "5f2a6acc70210837"
  },
  {
   "metadata": {
    "ExecuteTime": {
     "end_time": "2024-06-10T14:40:21.345356Z",
     "start_time": "2024-06-10T14:40:21.332344Z"
    }
   },
   "cell_type": "code",
   "source": [
    "# Ubah data menjadi format pivot\n",
    "pivot_data = performance_data.pivot_table(index='Status Ekonomi', columns='Lokasi Rumah', values='Rata-rata Performa Online')"
   ],
   "id": "98f0cb84528c7747",
   "outputs": [],
   "execution_count": 113
  },
  {
   "metadata": {
    "ExecuteTime": {
     "end_time": "2024-06-10T14:40:21.838708Z",
     "start_time": "2024-06-10T14:40:21.662234Z"
    }
   },
   "cell_type": "code",
   "source": [
    "# Visualisasi\n",
    "class_order = ['Poor', 'Middle Class', 'Rich']\n",
    "\n",
    "plt.figure(figsize=(10, 6))\n",
    "sns.heatmap(pivot_data, annot=True, cmap='viridis', fmt='.2f')\n",
    "plt.title(\"Rerata Performa Online Siswa Berdasarkan Status Ekonomi dan Lokasi Rumah (Skala 1-10)\")\n",
    "plt.show()"
   ],
   "id": "5bd1d0f541254c31",
   "outputs": [
    {
     "data": {
      "text/plain": [
       "<Figure size 1000x600 with 2 Axes>"
      ],
      "image/png": "[encoded data removed]"
     },
     "metadata": {},
     "output_type": "display_data"
    }
   ],
   "execution_count": 114
  },
  {
   "metadata": {},
   "cell_type": "markdown",
   "source": "### Bagaimana kualitas fasilitas internet berdampak pada performa siswa secara keseluruhan?",
   "id": "34e24858b4ca8b04"
  },
  {
   "metadata": {
    "ExecuteTime": {
     "end_time": "2024-06-10T14:41:54.987041Z",
     "start_time": "2024-06-10T14:41:54.802323Z"
    }
   },
   "cell_type": "code",
   "source": [
    "# Visualisasi\n",
    "plt.figure(figsize=(10, 6))\n",
    "sns.barplot(x='Kualitas Fasilitas Internet (skala 1-5)', y='Rata-rata Performa Online', data=internet_facility_data, palette='viridis')\n",
    "plt.title(\"Rata-rata Performa Online Siswa Berdasarkan Kualitas Fasilitas Internet\")\n",
    "plt.xlabel(\"Kualitas Fasilitas Internet (skala 1-5)\")\n",
    "plt.ylabel(\"Rata-rata Performa Online\")\n",
    "plt.show()"
   ],
   "id": "7e39cd874b85e446",
   "outputs": [
    {
     "data": {
      "text/plain": [
       "<Figure size 1000x600 with 1 Axes>"
      ],
      "image/png": "[encoded data removed]"
     },
     "metadata": {},
     "output_type": "display_data"
    }
   ],
   "execution_count": 115
  },
  {
   "metadata": {},
   "cell_type": "markdown",
   "source": "## Conclusion",
   "id": "8ecde53b70a780f2"
  },
  {
   "metadata": {},
   "cell_type": "markdown",
   "source": "1. ",
   "id": "c074435f0d93c0a8"
  },
  {
   "metadata": {},
   "cell_type": "markdown",
   "source": "",
   "id": "8c318ff44cada035"
  }
 ],
 "metadata": {
  "kernelspec": {
   "display_name": "Python 3",
   "language": "python",
   "name": "python3"
  },
  "language_info": {
   "codemirror_mode": {
    "name": "ipython",
    "version": 2
   },
   "file_extension": ".py",
   "mimetype": "text/x-python",
   "name": "python",
   "nbconvert_exporter": "python",
   "pygments_lexer": "ipython2",
   "version": "2.7.6"
  }
 },
 "nbformat": 4,
 "nbformat_minor": 5
}
