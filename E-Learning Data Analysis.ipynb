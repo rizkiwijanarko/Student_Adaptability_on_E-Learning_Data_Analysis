{
 "cells": [
  {
   "cell_type": "markdown",
   "id": "b4f6fb96684ff78b",
   "metadata": {},
   "source": [
    "# DATA ANALYSIS PROJECT: ONLINE EDUCATION SYSTEM"
   ]
  },
  {
   "cell_type": "markdown",
   "id": "c917f5d6afae75fb",
   "metadata": {},
   "source": [
    "## Determining the Problems"
   ]
  },
  {
   "cell_type": "markdown",
   "id": "4e01d4cb0f5dd2eb",
   "metadata": {},
   "source": [
    "1. Bagaimana demografi dan latar belakang siswa yang menggunakan sistem pendidikan online?\n",
    "2. Bagaimana skor performa pembelajaran online siswa dalam berbagai status ekonomi dan lokasi rumah (perkotaan vs pedesaan)?\n",
    "3. Bagaimana kualitas fasilitas internet berdampak pada performa siswa secara keseluruhan?\n",
    "4. Bagaimana waktu yang siswa gunakan untuk belajar dan bermain sosial media berdampak pada performa siswa secara keseluruhan?\n",
    "5. Bagaimana interaksi siswa pada mode online berpengaruh pada performa siswa secara keseluruhan?"
   ]
  },
  {
   "cell_type": "markdown",
   "id": "16aa18991ab37d62",
   "metadata": {},
   "source": [
    "## Importing Libraries"
   ]
  },
  {
   "cell_type": "code",
   "execution_count": 45,
   "id": "68360728d7a8453",
   "metadata": {
    "ExecuteTime": {
     "end_time": "2024-06-10T15:34:51.601291Z",
     "start_time": "2024-06-10T15:34:51.595450Z"
    }
   },
   "outputs": [],
   "source": [
    "import warnings\n",
    "import pandas as pd\n",
    "import numpy as np\n",
    "import matplotlib.pyplot as plt\n",
    "import matplotlib.ticker as mtick\n",
    "import seaborn as sns\n",
    "warnings.filterwarnings('ignore')"
   ]
  },
  {
   "cell_type": "markdown",
   "id": "e2f1e2807b280b68",
   "metadata": {},
   "source": [
    "## Data Wrangling"
   ]
  },
  {
   "cell_type": "markdown",
   "id": "76145d39d1287ff2",
   "metadata": {},
   "source": [
    "### Loading the Data"
   ]
  },
  {
   "cell_type": "code",
   "execution_count": 46,
   "id": "5a1d6c5e0ae25d7c",
   "metadata": {
    "ExecuteTime": {
     "end_time": "2024-06-10T15:34:52.085668Z",
     "start_time": "2024-06-10T15:34:52.073304Z"
    }
   },
   "outputs": [],
   "source": [
    "df = pd.read_csv('Dataset/ONLINE EDUCATION SYSTEM REVIEW.csv')"
   ]
  },
  {
   "cell_type": "code",
   "execution_count": 47,
   "id": "1d773648b4dc1b8c",
   "metadata": {
    "ExecuteTime": {
     "end_time": "2024-06-10T15:34:52.308059Z",
     "start_time": "2024-06-10T15:34:52.293167Z"
    }
   },
   "outputs": [
    {
     "data": {
      "text/html": [
       "<div>\n",
       "<style scoped>\n",
       "    .dataframe tbody tr th:only-of-type {\n",
       "        vertical-align: middle;\n",
       "    }\n",
       "\n",
       "    .dataframe tbody tr th {\n",
       "        vertical-align: top;\n",
       "    }\n",
       "\n",
       "    .dataframe thead th {\n",
       "        text-align: right;\n",
       "    }\n",
       "</style>\n",
       "<table border=\"1\" class=\"dataframe\">\n",
       "  <thead>\n",
       "    <tr style=\"text-align: right;\">\n",
       "      <th></th>\n",
       "      <th>Gender</th>\n",
       "      <th>Home Location</th>\n",
       "      <th>Level of Education</th>\n",
       "      <th>Age(Years)</th>\n",
       "      <th>Number of Subjects</th>\n",
       "      <th>Device type used to attend classes</th>\n",
       "      <th>Economic status</th>\n",
       "      <th>Family size</th>\n",
       "      <th>Internet facility in your locality</th>\n",
       "      <th>Are you involved in any sports?</th>\n",
       "      <th>...</th>\n",
       "      <th>Time spent on social media (Hours)</th>\n",
       "      <th>Interested in Gaming?</th>\n",
       "      <th>Have separate room for studying?</th>\n",
       "      <th>Engaged in group studies?</th>\n",
       "      <th>Average marks scored before pandemic in traditional classroom</th>\n",
       "      <th>Your interaction in online mode</th>\n",
       "      <th>Clearing doubts with faculties in online mode</th>\n",
       "      <th>Interested in?</th>\n",
       "      <th>Performance in online</th>\n",
       "      <th>Your level of satisfaction in Online Education</th>\n",
       "    </tr>\n",
       "  </thead>\n",
       "  <tbody>\n",
       "    <tr>\n",
       "      <th>0</th>\n",
       "      <td>Male</td>\n",
       "      <td>Urban</td>\n",
       "      <td>Under Graduate</td>\n",
       "      <td>18</td>\n",
       "      <td>11</td>\n",
       "      <td>Laptop</td>\n",
       "      <td>Middle Class</td>\n",
       "      <td>4</td>\n",
       "      <td>5</td>\n",
       "      <td>No</td>\n",
       "      <td>...</td>\n",
       "      <td>1</td>\n",
       "      <td>No</td>\n",
       "      <td>No</td>\n",
       "      <td>No</td>\n",
       "      <td>91-100</td>\n",
       "      <td>1</td>\n",
       "      <td>1</td>\n",
       "      <td>Practical</td>\n",
       "      <td>6</td>\n",
       "      <td>Average</td>\n",
       "    </tr>\n",
       "    <tr>\n",
       "      <th>1</th>\n",
       "      <td>Male</td>\n",
       "      <td>Urban</td>\n",
       "      <td>Under Graduate</td>\n",
       "      <td>19</td>\n",
       "      <td>7</td>\n",
       "      <td>Laptop</td>\n",
       "      <td>Middle Class</td>\n",
       "      <td>4</td>\n",
       "      <td>1</td>\n",
       "      <td>Yes</td>\n",
       "      <td>...</td>\n",
       "      <td>1</td>\n",
       "      <td>Yes</td>\n",
       "      <td>Yes</td>\n",
       "      <td>No</td>\n",
       "      <td>91-100</td>\n",
       "      <td>1</td>\n",
       "      <td>1</td>\n",
       "      <td>Theory</td>\n",
       "      <td>3</td>\n",
       "      <td>Bad</td>\n",
       "    </tr>\n",
       "    <tr>\n",
       "      <th>2</th>\n",
       "      <td>Male</td>\n",
       "      <td>Rural</td>\n",
       "      <td>Under Graduate</td>\n",
       "      <td>18</td>\n",
       "      <td>5</td>\n",
       "      <td>Laptop</td>\n",
       "      <td>Middle Class</td>\n",
       "      <td>5</td>\n",
       "      <td>2</td>\n",
       "      <td>No</td>\n",
       "      <td>...</td>\n",
       "      <td>1</td>\n",
       "      <td>No</td>\n",
       "      <td>Yes</td>\n",
       "      <td>No</td>\n",
       "      <td>71-80</td>\n",
       "      <td>1</td>\n",
       "      <td>1</td>\n",
       "      <td>Both</td>\n",
       "      <td>6</td>\n",
       "      <td>Bad</td>\n",
       "    </tr>\n",
       "    <tr>\n",
       "      <th>3</th>\n",
       "      <td>Male</td>\n",
       "      <td>Urban</td>\n",
       "      <td>Under Graduate</td>\n",
       "      <td>18</td>\n",
       "      <td>5</td>\n",
       "      <td>Laptop</td>\n",
       "      <td>Middle Class</td>\n",
       "      <td>4</td>\n",
       "      <td>4</td>\n",
       "      <td>Yes</td>\n",
       "      <td>...</td>\n",
       "      <td>2</td>\n",
       "      <td>No</td>\n",
       "      <td>No</td>\n",
       "      <td>yes</td>\n",
       "      <td>91-100</td>\n",
       "      <td>1</td>\n",
       "      <td>2</td>\n",
       "      <td>Theory</td>\n",
       "      <td>4</td>\n",
       "      <td>Bad</td>\n",
       "    </tr>\n",
       "    <tr>\n",
       "      <th>4</th>\n",
       "      <td>Male</td>\n",
       "      <td>Rural</td>\n",
       "      <td>Under Graduate</td>\n",
       "      <td>18</td>\n",
       "      <td>5</td>\n",
       "      <td>Laptop</td>\n",
       "      <td>Middle Class</td>\n",
       "      <td>4</td>\n",
       "      <td>3</td>\n",
       "      <td>No</td>\n",
       "      <td>...</td>\n",
       "      <td>2</td>\n",
       "      <td>Yes</td>\n",
       "      <td>Yes</td>\n",
       "      <td>yes</td>\n",
       "      <td>81-90</td>\n",
       "      <td>3</td>\n",
       "      <td>3</td>\n",
       "      <td>Both</td>\n",
       "      <td>6</td>\n",
       "      <td>Average</td>\n",
       "    </tr>\n",
       "  </tbody>\n",
       "</table>\n",
       "<p>5 rows × 23 columns</p>\n",
       "</div>"
      ],
      "text/plain": [
       "  Gender Home Location Level of Education  Age(Years)  Number of Subjects  \\\n",
       "0   Male         Urban     Under Graduate          18                  11   \n",
       "1   Male         Urban     Under Graduate          19                   7   \n",
       "2   Male         Rural     Under Graduate          18                   5   \n",
       "3   Male         Urban     Under Graduate          18                   5   \n",
       "4   Male         Rural     Under Graduate          18                   5   \n",
       "\n",
       "  Device type used to attend classes Economic status  Family size  \\\n",
       "0                             Laptop    Middle Class            4   \n",
       "1                             Laptop    Middle Class            4   \n",
       "2                             Laptop    Middle Class            5   \n",
       "3                             Laptop    Middle Class            4   \n",
       "4                             Laptop    Middle Class            4   \n",
       "\n",
       "   Internet facility in your locality Are you involved in any sports?  ...  \\\n",
       "0                                   5                              No  ...   \n",
       "1                                   1                             Yes  ...   \n",
       "2                                   2                              No  ...   \n",
       "3                                   4                             Yes  ...   \n",
       "4                                   3                              No  ...   \n",
       "\n",
       "  Time spent on social media (Hours)  Interested in Gaming?  \\\n",
       "0                                  1                     No   \n",
       "1                                  1                    Yes   \n",
       "2                                  1                     No   \n",
       "3                                  2                     No   \n",
       "4                                  2                    Yes   \n",
       "\n",
       "   Have separate room for studying?  Engaged in group studies?  \\\n",
       "0                                No                         No   \n",
       "1                               Yes                         No   \n",
       "2                               Yes                         No   \n",
       "3                                No                        yes   \n",
       "4                               Yes                        yes   \n",
       "\n",
       "  Average marks scored before pandemic in traditional classroom  \\\n",
       "0                                             91-100              \n",
       "1                                             91-100              \n",
       "2                                              71-80              \n",
       "3                                             91-100              \n",
       "4                                              81-90              \n",
       "\n",
       "  Your interaction in online mode  \\\n",
       "0                               1   \n",
       "1                               1   \n",
       "2                               1   \n",
       "3                               1   \n",
       "4                               3   \n",
       "\n",
       "  Clearing doubts with faculties in online mode Interested in?  \\\n",
       "0                                             1      Practical   \n",
       "1                                             1         Theory   \n",
       "2                                             1           Both   \n",
       "3                                             2         Theory   \n",
       "4                                             3           Both   \n",
       "\n",
       "   Performance in online  Your level of satisfaction in Online Education  \n",
       "0                      6                                         Average  \n",
       "1                      3                                             Bad  \n",
       "2                      6                                             Bad  \n",
       "3                      4                                             Bad  \n",
       "4                      6                                         Average  \n",
       "\n",
       "[5 rows x 23 columns]"
      ]
     },
     "execution_count": 47,
     "metadata": {},
     "output_type": "execute_result"
    }
   ],
   "source": [
    "df.head()"
   ]
  },
  {
   "cell_type": "markdown",
   "id": "a1500705d2615a58",
   "metadata": {},
   "source": [
    "### Assessing the Data"
   ]
  },
  {
   "cell_type": "code",
   "execution_count": 48,
   "id": "eab727a6254c84fe",
   "metadata": {
    "ExecuteTime": {
     "end_time": "2024-06-10T15:34:52.787983Z",
     "start_time": "2024-06-10T15:34:52.773207Z"
    }
   },
   "outputs": [
    {
     "name": "stdout",
     "output_type": "stream",
     "text": [
      "<class 'pandas.core.frame.DataFrame'>\n",
      "RangeIndex: 1033 entries, 0 to 1032\n",
      "Data columns (total 23 columns):\n",
      " #   Column                                                         Non-Null Count  Dtype \n",
      "---  ------                                                         --------------  ----- \n",
      " 0   Gender                                                         1033 non-null   object\n",
      " 1   Home Location                                                  1033 non-null   object\n",
      " 2   Level of Education                                             1033 non-null   object\n",
      " 3   Age(Years)                                                     1033 non-null   int64 \n",
      " 4   Number of Subjects                                             1033 non-null   int64 \n",
      " 5   Device type used to attend classes                             1033 non-null   object\n",
      " 6   Economic status                                                1033 non-null   object\n",
      " 7   Family size                                                    1033 non-null   int64 \n",
      " 8   Internet facility in your locality                             1033 non-null   int64 \n",
      " 9   Are you involved in any sports?                                1033 non-null   object\n",
      " 10  Do elderly people monitor you?                                 1033 non-null   object\n",
      " 11  Study time (Hours)                                             1033 non-null   int64 \n",
      " 12  Sleep time (Hours)                                             1033 non-null   int64 \n",
      " 13  Time spent on social media (Hours)                             1033 non-null   int64 \n",
      " 14  Interested in Gaming?                                          1033 non-null   object\n",
      " 15  Have separate room for studying?                               1033 non-null   object\n",
      " 16  Engaged in group studies?                                      1033 non-null   object\n",
      " 17  Average marks scored before pandemic in traditional classroom  1033 non-null   object\n",
      " 18  Your interaction in online mode                                1033 non-null   int64 \n",
      " 19  Clearing doubts with faculties in online mode                  1033 non-null   int64 \n",
      " 20  Interested in?                                                 1033 non-null   object\n",
      " 21  Performance in online                                          1033 non-null   int64 \n",
      " 22  Your level of satisfaction in Online Education                 1033 non-null   object\n",
      "dtypes: int64(10), object(13)\n",
      "memory usage: 185.7+ KB\n"
     ]
    }
   ],
   "source": [
    "df.info()"
   ]
  },
  {
   "cell_type": "markdown",
   "id": "ee603470f6ff8571",
   "metadata": {},
   "source": [
    "Tipe data pada \"Average marks scored before pandemic in traditional classroom\" belum sesuai dengan tipe data yang seharusnya. Seharusnya tipe data tersebut adalah float, bukan object."
   ]
  },
  {
   "cell_type": "code",
   "execution_count": 49,
   "id": "88d1b4b961d9b19c",
   "metadata": {
    "ExecuteTime": {
     "end_time": "2024-06-10T15:34:53.042111Z",
     "start_time": "2024-06-10T15:34:53.033142Z"
    }
   },
   "outputs": [
    {
     "data": {
      "text/plain": [
       "Gender                                                            2\n",
       "Home Location                                                     2\n",
       "Level of Education                                                3\n",
       "Age(Years)                                                       24\n",
       "Number of Subjects                                               20\n",
       "Device type used to attend classes                                3\n",
       "Economic status                                                   3\n",
       "Family size                                                       9\n",
       "Internet facility in your locality                                5\n",
       "Are you involved in any sports?                                   2\n",
       "Do elderly people monitor you?                                    2\n",
       "Study time (Hours)                                               10\n",
       "Sleep time (Hours)                                               10\n",
       "Time spent on social media (Hours)                               10\n",
       "Interested in Gaming?                                             2\n",
       "Have separate room for studying?                                  2\n",
       "Engaged in group studies?                                         2\n",
       "Average marks scored before pandemic in traditional classroom    10\n",
       "Your interaction in online mode                                   5\n",
       "Clearing doubts with faculties in online mode                     5\n",
       "Interested in?                                                    3\n",
       "Performance in online                                             9\n",
       "Your level of satisfaction in Online Education                    3\n",
       "dtype: int64"
      ]
     },
     "execution_count": 49,
     "metadata": {},
     "output_type": "execute_result"
    }
   ],
   "source": [
    "df.nunique()"
   ]
  },
  {
   "cell_type": "code",
   "execution_count": 50,
   "id": "803ce165f37c9507",
   "metadata": {
    "ExecuteTime": {
     "end_time": "2024-06-10T15:34:53.283517Z",
     "start_time": "2024-06-10T15:34:53.272963Z"
    }
   },
   "outputs": [
    {
     "data": {
      "text/plain": [
       "Gender                                                           0\n",
       "Home Location                                                    0\n",
       "Level of Education                                               0\n",
       "Age(Years)                                                       0\n",
       "Number of Subjects                                               0\n",
       "Device type used to attend classes                               0\n",
       "Economic status                                                  0\n",
       "Family size                                                      0\n",
       "Internet facility in your locality                               0\n",
       "Are you involved in any sports?                                  0\n",
       "Do elderly people monitor you?                                   0\n",
       "Study time (Hours)                                               0\n",
       "Sleep time (Hours)                                               0\n",
       "Time spent on social media (Hours)                               0\n",
       "Interested in Gaming?                                            0\n",
       "Have separate room for studying?                                 0\n",
       "Engaged in group studies?                                        0\n",
       "Average marks scored before pandemic in traditional classroom    0\n",
       "Your interaction in online mode                                  0\n",
       "Clearing doubts with faculties in online mode                    0\n",
       "Interested in?                                                   0\n",
       "Performance in online                                            0\n",
       "Your level of satisfaction in Online Education                   0\n",
       "dtype: int64"
      ]
     },
     "execution_count": 50,
     "metadata": {},
     "output_type": "execute_result"
    }
   ],
   "source": [
    "# Mengecek nilai null pada dataset\n",
    "df.isna().sum()"
   ]
  },
  {
   "cell_type": "code",
   "execution_count": 51,
   "id": "dfd7778b125eeffc",
   "metadata": {
    "ExecuteTime": {
     "end_time": "2024-06-10T15:34:53.489820Z",
     "start_time": "2024-06-10T15:34:53.478318Z"
    }
   },
   "outputs": [
    {
     "name": "stdout",
     "output_type": "stream",
     "text": [
      "Sum of duplicated rows:  0\n"
     ]
    }
   ],
   "source": [
    "print(\"Sum of duplicated rows: \", df.duplicated().sum())"
   ]
  },
  {
   "cell_type": "code",
   "execution_count": 52,
   "id": "c08f0fade246ec7b",
   "metadata": {
    "ExecuteTime": {
     "end_time": "2024-06-10T15:34:53.818451Z",
     "start_time": "2024-06-10T15:34:53.783257Z"
    }
   },
   "outputs": [
    {
     "data": {
      "text/html": [
       "<div>\n",
       "<style scoped>\n",
       "    .dataframe tbody tr th:only-of-type {\n",
       "        vertical-align: middle;\n",
       "    }\n",
       "\n",
       "    .dataframe tbody tr th {\n",
       "        vertical-align: top;\n",
       "    }\n",
       "\n",
       "    .dataframe thead th {\n",
       "        text-align: right;\n",
       "    }\n",
       "</style>\n",
       "<table border=\"1\" class=\"dataframe\">\n",
       "  <thead>\n",
       "    <tr style=\"text-align: right;\">\n",
       "      <th></th>\n",
       "      <th>Age(Years)</th>\n",
       "      <th>Number of Subjects</th>\n",
       "      <th>Family size</th>\n",
       "      <th>Internet facility in your locality</th>\n",
       "      <th>Study time (Hours)</th>\n",
       "      <th>Sleep time (Hours)</th>\n",
       "      <th>Time spent on social media (Hours)</th>\n",
       "      <th>Your interaction in online mode</th>\n",
       "      <th>Clearing doubts with faculties in online mode</th>\n",
       "      <th>Performance in online</th>\n",
       "    </tr>\n",
       "  </thead>\n",
       "  <tbody>\n",
       "    <tr>\n",
       "      <th>count</th>\n",
       "      <td>1033.000000</td>\n",
       "      <td>1033.00000</td>\n",
       "      <td>1033.000000</td>\n",
       "      <td>1033.000000</td>\n",
       "      <td>1033.000000</td>\n",
       "      <td>1033.000000</td>\n",
       "      <td>1033.000000</td>\n",
       "      <td>1033.000000</td>\n",
       "      <td>1033.000000</td>\n",
       "      <td>1033.000000</td>\n",
       "    </tr>\n",
       "    <tr>\n",
       "      <th>mean</th>\n",
       "      <td>19.798645</td>\n",
       "      <td>7.03485</td>\n",
       "      <td>4.413359</td>\n",
       "      <td>3.586641</td>\n",
       "      <td>4.325266</td>\n",
       "      <td>6.947725</td>\n",
       "      <td>2.636980</td>\n",
       "      <td>2.930300</td>\n",
       "      <td>2.833495</td>\n",
       "      <td>6.696031</td>\n",
       "    </tr>\n",
       "    <tr>\n",
       "      <th>std</th>\n",
       "      <td>3.199158</td>\n",
       "      <td>2.81034</td>\n",
       "      <td>1.236750</td>\n",
       "      <td>1.026063</td>\n",
       "      <td>2.134233</td>\n",
       "      <td>1.324039</td>\n",
       "      <td>1.859625</td>\n",
       "      <td>1.105387</td>\n",
       "      <td>1.163629</td>\n",
       "      <td>1.920048</td>\n",
       "    </tr>\n",
       "    <tr>\n",
       "      <th>min</th>\n",
       "      <td>9.000000</td>\n",
       "      <td>1.00000</td>\n",
       "      <td>2.000000</td>\n",
       "      <td>1.000000</td>\n",
       "      <td>1.000000</td>\n",
       "      <td>1.000000</td>\n",
       "      <td>1.000000</td>\n",
       "      <td>1.000000</td>\n",
       "      <td>1.000000</td>\n",
       "      <td>2.000000</td>\n",
       "    </tr>\n",
       "    <tr>\n",
       "      <th>25%</th>\n",
       "      <td>18.000000</td>\n",
       "      <td>6.00000</td>\n",
       "      <td>4.000000</td>\n",
       "      <td>3.000000</td>\n",
       "      <td>3.000000</td>\n",
       "      <td>6.000000</td>\n",
       "      <td>1.000000</td>\n",
       "      <td>2.000000</td>\n",
       "      <td>2.000000</td>\n",
       "      <td>6.000000</td>\n",
       "    </tr>\n",
       "    <tr>\n",
       "      <th>50%</th>\n",
       "      <td>19.000000</td>\n",
       "      <td>7.00000</td>\n",
       "      <td>4.000000</td>\n",
       "      <td>4.000000</td>\n",
       "      <td>4.000000</td>\n",
       "      <td>7.000000</td>\n",
       "      <td>2.000000</td>\n",
       "      <td>3.000000</td>\n",
       "      <td>3.000000</td>\n",
       "      <td>7.000000</td>\n",
       "    </tr>\n",
       "    <tr>\n",
       "      <th>75%</th>\n",
       "      <td>20.000000</td>\n",
       "      <td>8.00000</td>\n",
       "      <td>5.000000</td>\n",
       "      <td>4.000000</td>\n",
       "      <td>6.000000</td>\n",
       "      <td>8.000000</td>\n",
       "      <td>3.000000</td>\n",
       "      <td>4.000000</td>\n",
       "      <td>4.000000</td>\n",
       "      <td>8.000000</td>\n",
       "    </tr>\n",
       "    <tr>\n",
       "      <th>max</th>\n",
       "      <td>40.000000</td>\n",
       "      <td>20.00000</td>\n",
       "      <td>10.000000</td>\n",
       "      <td>5.000000</td>\n",
       "      <td>10.000000</td>\n",
       "      <td>10.000000</td>\n",
       "      <td>10.000000</td>\n",
       "      <td>5.000000</td>\n",
       "      <td>5.000000</td>\n",
       "      <td>10.000000</td>\n",
       "    </tr>\n",
       "  </tbody>\n",
       "</table>\n",
       "</div>"
      ],
      "text/plain": [
       "        Age(Years)  Number of Subjects  Family size  \\\n",
       "count  1033.000000          1033.00000  1033.000000   \n",
       "mean     19.798645             7.03485     4.413359   \n",
       "std       3.199158             2.81034     1.236750   \n",
       "min       9.000000             1.00000     2.000000   \n",
       "25%      18.000000             6.00000     4.000000   \n",
       "50%      19.000000             7.00000     4.000000   \n",
       "75%      20.000000             8.00000     5.000000   \n",
       "max      40.000000            20.00000    10.000000   \n",
       "\n",
       "       Internet facility in your locality  Study time (Hours)  \\\n",
       "count                         1033.000000         1033.000000   \n",
       "mean                             3.586641            4.325266   \n",
       "std                              1.026063            2.134233   \n",
       "min                              1.000000            1.000000   \n",
       "25%                              3.000000            3.000000   \n",
       "50%                              4.000000            4.000000   \n",
       "75%                              4.000000            6.000000   \n",
       "max                              5.000000           10.000000   \n",
       "\n",
       "       Sleep time (Hours)  Time spent on social media (Hours)  \\\n",
       "count         1033.000000                         1033.000000   \n",
       "mean             6.947725                            2.636980   \n",
       "std              1.324039                            1.859625   \n",
       "min              1.000000                            1.000000   \n",
       "25%              6.000000                            1.000000   \n",
       "50%              7.000000                            2.000000   \n",
       "75%              8.000000                            3.000000   \n",
       "max             10.000000                           10.000000   \n",
       "\n",
       "       Your interaction in online mode  \\\n",
       "count                      1033.000000   \n",
       "mean                          2.930300   \n",
       "std                           1.105387   \n",
       "min                           1.000000   \n",
       "25%                           2.000000   \n",
       "50%                           3.000000   \n",
       "75%                           4.000000   \n",
       "max                           5.000000   \n",
       "\n",
       "       Clearing doubts with faculties in online mode  Performance in online  \n",
       "count                                    1033.000000            1033.000000  \n",
       "mean                                        2.833495               6.696031  \n",
       "std                                         1.163629               1.920048  \n",
       "min                                         1.000000               2.000000  \n",
       "25%                                         2.000000               6.000000  \n",
       "50%                                         3.000000               7.000000  \n",
       "75%                                         4.000000               8.000000  \n",
       "max                                         5.000000              10.000000  "
      ]
     },
     "execution_count": 52,
     "metadata": {},
     "output_type": "execute_result"
    }
   ],
   "source": [
    "df.describe()"
   ]
  },
  {
   "cell_type": "markdown",
   "id": "ac3ee7506108a00b",
   "metadata": {},
   "source": [
    "### Cleaning the Data"
   ]
  },
  {
   "cell_type": "code",
   "execution_count": 53,
   "id": "8b5904aea1fc63cd",
   "metadata": {
    "ExecuteTime": {
     "end_time": "2024-06-10T15:34:54.013745Z",
     "start_time": "2024-06-10T15:34:54.003294Z"
    }
   },
   "outputs": [
    {
     "data": {
      "text/plain": [
       "0    91-100\n",
       "1    91-100\n",
       "2     71-80\n",
       "3    91-100\n",
       "4     81-90\n",
       "Name: Average marks scored before pandemic in traditional classroom, dtype: object"
      ]
     },
     "execution_count": 53,
     "metadata": {},
     "output_type": "execute_result"
    }
   ],
   "source": [
    "# Melihat entri \"Average marks scored before pandemic in traditional classroom\"\n",
    "df['Average marks scored before pandemic in traditional classroom'].head()"
   ]
  },
  {
   "cell_type": "markdown",
   "id": "9f84069ebd0cab2a",
   "metadata": {},
   "source": [
    "- Data masih berupa object.\n",
    "- Terdapat nilai '-' yang tidak sesuai. Perlu juga mengganti data dengan mencari rerata antara 2 angka tersebut."
   ]
  },
  {
   "cell_type": "code",
   "execution_count": 54,
   "id": "c08f58a210116918",
   "metadata": {
    "ExecuteTime": {
     "end_time": "2024-06-10T15:34:54.404032Z",
     "start_time": "2024-06-10T15:34:54.399017Z"
    }
   },
   "outputs": [],
   "source": [
    "def calculate_mean(value):\n",
    "    # Split the string into two parts on the '-' character\n",
    "    values = value.split('-')\n",
    "    # Convert the parts to integers and calculate the mean\n",
    "    mean_value = (int(values[0]) + int(values[1])) / 2\n",
    "    return mean_value"
   ]
  },
  {
   "cell_type": "code",
   "execution_count": 55,
   "id": "1566f83fc79c69cb",
   "metadata": {
    "ExecuteTime": {
     "end_time": "2024-06-10T15:34:54.593467Z",
     "start_time": "2024-06-10T15:34:54.586375Z"
    }
   },
   "outputs": [],
   "source": [
    "# Mengaplikasikan fungsi untuk kolom tersebut\n",
    "df['Average marks scored before pandemic in traditional classroom_mean'] = df['Average marks scored before pandemic in traditional classroom'].apply(calculate_mean)"
   ]
  },
  {
   "cell_type": "code",
   "execution_count": 56,
   "id": "be159957da6a839d",
   "metadata": {
    "ExecuteTime": {
     "end_time": "2024-06-10T15:34:54.773764Z",
     "start_time": "2024-06-10T15:34:54.762958Z"
    }
   },
   "outputs": [
    {
     "data": {
      "text/plain": [
       "0    95.5\n",
       "1    95.5\n",
       "2    75.5\n",
       "3    95.5\n",
       "4    85.5\n",
       "Name: Average marks scored before pandemic in traditional classroom_mean, dtype: float64"
      ]
     },
     "execution_count": 56,
     "metadata": {},
     "output_type": "execute_result"
    }
   ],
   "source": [
    "# Melihat hasil perubahan\n",
    "df['Average marks scored before pandemic in traditional classroom_mean'].head()"
   ]
  },
  {
   "cell_type": "code",
   "execution_count": 57,
   "id": "ef1b7a0579960a28",
   "metadata": {
    "ExecuteTime": {
     "end_time": "2024-06-10T15:34:54.994281Z",
     "start_time": "2024-06-10T15:34:54.983443Z"
    }
   },
   "outputs": [
    {
     "name": "stdout",
     "output_type": "stream",
     "text": [
      "<class 'pandas.core.frame.DataFrame'>\n",
      "RangeIndex: 1033 entries, 0 to 1032\n",
      "Data columns (total 24 columns):\n",
      " #   Column                                                              Non-Null Count  Dtype  \n",
      "---  ------                                                              --------------  -----  \n",
      " 0   Gender                                                              1033 non-null   object \n",
      " 1   Home Location                                                       1033 non-null   object \n",
      " 2   Level of Education                                                  1033 non-null   object \n",
      " 3   Age(Years)                                                          1033 non-null   int64  \n",
      " 4   Number of Subjects                                                  1033 non-null   int64  \n",
      " 5   Device type used to attend classes                                  1033 non-null   object \n",
      " 6   Economic status                                                     1033 non-null   object \n",
      " 7   Family size                                                         1033 non-null   int64  \n",
      " 8   Internet facility in your locality                                  1033 non-null   int64  \n",
      " 9   Are you involved in any sports?                                     1033 non-null   object \n",
      " 10  Do elderly people monitor you?                                      1033 non-null   object \n",
      " 11  Study time (Hours)                                                  1033 non-null   int64  \n",
      " 12  Sleep time (Hours)                                                  1033 non-null   int64  \n",
      " 13  Time spent on social media (Hours)                                  1033 non-null   int64  \n",
      " 14  Interested in Gaming?                                               1033 non-null   object \n",
      " 15  Have separate room for studying?                                    1033 non-null   object \n",
      " 16  Engaged in group studies?                                           1033 non-null   object \n",
      " 17  Average marks scored before pandemic in traditional classroom       1033 non-null   object \n",
      " 18  Your interaction in online mode                                     1033 non-null   int64  \n",
      " 19  Clearing doubts with faculties in online mode                       1033 non-null   int64  \n",
      " 20  Interested in?                                                      1033 non-null   object \n",
      " 21  Performance in online                                               1033 non-null   int64  \n",
      " 22  Your level of satisfaction in Online Education                      1033 non-null   object \n",
      " 23  Average marks scored before pandemic in traditional classroom_mean  1033 non-null   float64\n",
      "dtypes: float64(1), int64(10), object(13)\n",
      "memory usage: 193.8+ KB\n"
     ]
    }
   ],
   "source": [
    "df.info()"
   ]
  },
  {
   "cell_type": "code",
   "execution_count": 58,
   "id": "e95aa12a367e711c",
   "metadata": {
    "ExecuteTime": {
     "end_time": "2024-06-10T15:34:55.213584Z",
     "start_time": "2024-06-10T15:34:55.206649Z"
    }
   },
   "outputs": [],
   "source": [
    "# Menghapus kolom yang tidak diperlukan\n",
    "df.drop('Average marks scored before pandemic in traditional classroom', axis=1, inplace=True)"
   ]
  },
  {
   "cell_type": "code",
   "execution_count": 59,
   "id": "5874900a5fd39b5d",
   "metadata": {
    "ExecuteTime": {
     "end_time": "2024-06-10T15:34:55.390974Z",
     "start_time": "2024-06-10T15:34:55.373460Z"
    }
   },
   "outputs": [
    {
     "data": {
      "text/html": [
       "<div>\n",
       "<style scoped>\n",
       "    .dataframe tbody tr th:only-of-type {\n",
       "        vertical-align: middle;\n",
       "    }\n",
       "\n",
       "    .dataframe tbody tr th {\n",
       "        vertical-align: top;\n",
       "    }\n",
       "\n",
       "    .dataframe thead th {\n",
       "        text-align: right;\n",
       "    }\n",
       "</style>\n",
       "<table border=\"1\" class=\"dataframe\">\n",
       "  <thead>\n",
       "    <tr style=\"text-align: right;\">\n",
       "      <th></th>\n",
       "      <th>Gender</th>\n",
       "      <th>Home Location</th>\n",
       "      <th>Level of Education</th>\n",
       "      <th>Age(Years)</th>\n",
       "      <th>Number of Subjects</th>\n",
       "      <th>Device type used to attend classes</th>\n",
       "      <th>Economic status</th>\n",
       "      <th>Family size</th>\n",
       "      <th>Internet facility in your locality</th>\n",
       "      <th>Are you involved in any sports?</th>\n",
       "      <th>...</th>\n",
       "      <th>Time spent on social media (Hours)</th>\n",
       "      <th>Interested in Gaming?</th>\n",
       "      <th>Have separate room for studying?</th>\n",
       "      <th>Engaged in group studies?</th>\n",
       "      <th>Your interaction in online mode</th>\n",
       "      <th>Clearing doubts with faculties in online mode</th>\n",
       "      <th>Interested in?</th>\n",
       "      <th>Performance in online</th>\n",
       "      <th>Your level of satisfaction in Online Education</th>\n",
       "      <th>Average marks scored before pandemic in traditional classroom_mean</th>\n",
       "    </tr>\n",
       "  </thead>\n",
       "  <tbody>\n",
       "    <tr>\n",
       "      <th>0</th>\n",
       "      <td>Male</td>\n",
       "      <td>Urban</td>\n",
       "      <td>Under Graduate</td>\n",
       "      <td>18</td>\n",
       "      <td>11</td>\n",
       "      <td>Laptop</td>\n",
       "      <td>Middle Class</td>\n",
       "      <td>4</td>\n",
       "      <td>5</td>\n",
       "      <td>No</td>\n",
       "      <td>...</td>\n",
       "      <td>1</td>\n",
       "      <td>No</td>\n",
       "      <td>No</td>\n",
       "      <td>No</td>\n",
       "      <td>1</td>\n",
       "      <td>1</td>\n",
       "      <td>Practical</td>\n",
       "      <td>6</td>\n",
       "      <td>Average</td>\n",
       "      <td>95.5</td>\n",
       "    </tr>\n",
       "    <tr>\n",
       "      <th>1</th>\n",
       "      <td>Male</td>\n",
       "      <td>Urban</td>\n",
       "      <td>Under Graduate</td>\n",
       "      <td>19</td>\n",
       "      <td>7</td>\n",
       "      <td>Laptop</td>\n",
       "      <td>Middle Class</td>\n",
       "      <td>4</td>\n",
       "      <td>1</td>\n",
       "      <td>Yes</td>\n",
       "      <td>...</td>\n",
       "      <td>1</td>\n",
       "      <td>Yes</td>\n",
       "      <td>Yes</td>\n",
       "      <td>No</td>\n",
       "      <td>1</td>\n",
       "      <td>1</td>\n",
       "      <td>Theory</td>\n",
       "      <td>3</td>\n",
       "      <td>Bad</td>\n",
       "      <td>95.5</td>\n",
       "    </tr>\n",
       "    <tr>\n",
       "      <th>2</th>\n",
       "      <td>Male</td>\n",
       "      <td>Rural</td>\n",
       "      <td>Under Graduate</td>\n",
       "      <td>18</td>\n",
       "      <td>5</td>\n",
       "      <td>Laptop</td>\n",
       "      <td>Middle Class</td>\n",
       "      <td>5</td>\n",
       "      <td>2</td>\n",
       "      <td>No</td>\n",
       "      <td>...</td>\n",
       "      <td>1</td>\n",
       "      <td>No</td>\n",
       "      <td>Yes</td>\n",
       "      <td>No</td>\n",
       "      <td>1</td>\n",
       "      <td>1</td>\n",
       "      <td>Both</td>\n",
       "      <td>6</td>\n",
       "      <td>Bad</td>\n",
       "      <td>75.5</td>\n",
       "    </tr>\n",
       "    <tr>\n",
       "      <th>3</th>\n",
       "      <td>Male</td>\n",
       "      <td>Urban</td>\n",
       "      <td>Under Graduate</td>\n",
       "      <td>18</td>\n",
       "      <td>5</td>\n",
       "      <td>Laptop</td>\n",
       "      <td>Middle Class</td>\n",
       "      <td>4</td>\n",
       "      <td>4</td>\n",
       "      <td>Yes</td>\n",
       "      <td>...</td>\n",
       "      <td>2</td>\n",
       "      <td>No</td>\n",
       "      <td>No</td>\n",
       "      <td>yes</td>\n",
       "      <td>1</td>\n",
       "      <td>2</td>\n",
       "      <td>Theory</td>\n",
       "      <td>4</td>\n",
       "      <td>Bad</td>\n",
       "      <td>95.5</td>\n",
       "    </tr>\n",
       "    <tr>\n",
       "      <th>4</th>\n",
       "      <td>Male</td>\n",
       "      <td>Rural</td>\n",
       "      <td>Under Graduate</td>\n",
       "      <td>18</td>\n",
       "      <td>5</td>\n",
       "      <td>Laptop</td>\n",
       "      <td>Middle Class</td>\n",
       "      <td>4</td>\n",
       "      <td>3</td>\n",
       "      <td>No</td>\n",
       "      <td>...</td>\n",
       "      <td>2</td>\n",
       "      <td>Yes</td>\n",
       "      <td>Yes</td>\n",
       "      <td>yes</td>\n",
       "      <td>3</td>\n",
       "      <td>3</td>\n",
       "      <td>Both</td>\n",
       "      <td>6</td>\n",
       "      <td>Average</td>\n",
       "      <td>85.5</td>\n",
       "    </tr>\n",
       "  </tbody>\n",
       "</table>\n",
       "<p>5 rows × 23 columns</p>\n",
       "</div>"
      ],
      "text/plain": [
       "  Gender Home Location Level of Education  Age(Years)  Number of Subjects  \\\n",
       "0   Male         Urban     Under Graduate          18                  11   \n",
       "1   Male         Urban     Under Graduate          19                   7   \n",
       "2   Male         Rural     Under Graduate          18                   5   \n",
       "3   Male         Urban     Under Graduate          18                   5   \n",
       "4   Male         Rural     Under Graduate          18                   5   \n",
       "\n",
       "  Device type used to attend classes Economic status  Family size  \\\n",
       "0                             Laptop    Middle Class            4   \n",
       "1                             Laptop    Middle Class            4   \n",
       "2                             Laptop    Middle Class            5   \n",
       "3                             Laptop    Middle Class            4   \n",
       "4                             Laptop    Middle Class            4   \n",
       "\n",
       "   Internet facility in your locality Are you involved in any sports?  ...  \\\n",
       "0                                   5                              No  ...   \n",
       "1                                   1                             Yes  ...   \n",
       "2                                   2                              No  ...   \n",
       "3                                   4                             Yes  ...   \n",
       "4                                   3                              No  ...   \n",
       "\n",
       "  Time spent on social media (Hours)  Interested in Gaming?  \\\n",
       "0                                  1                     No   \n",
       "1                                  1                    Yes   \n",
       "2                                  1                     No   \n",
       "3                                  2                     No   \n",
       "4                                  2                    Yes   \n",
       "\n",
       "   Have separate room for studying?  Engaged in group studies?  \\\n",
       "0                                No                         No   \n",
       "1                               Yes                         No   \n",
       "2                               Yes                         No   \n",
       "3                                No                        yes   \n",
       "4                               Yes                        yes   \n",
       "\n",
       "  Your interaction in online mode  \\\n",
       "0                               1   \n",
       "1                               1   \n",
       "2                               1   \n",
       "3                               1   \n",
       "4                               3   \n",
       "\n",
       "  Clearing doubts with faculties in online mode Interested in?  \\\n",
       "0                                             1      Practical   \n",
       "1                                             1         Theory   \n",
       "2                                             1           Both   \n",
       "3                                             2         Theory   \n",
       "4                                             3           Both   \n",
       "\n",
       "   Performance in online  Your level of satisfaction in Online Education  \\\n",
       "0                      6                                         Average   \n",
       "1                      3                                             Bad   \n",
       "2                      6                                             Bad   \n",
       "3                      4                                             Bad   \n",
       "4                      6                                         Average   \n",
       "\n",
       "  Average marks scored before pandemic in traditional classroom_mean  \n",
       "0                                               95.5                  \n",
       "1                                               95.5                  \n",
       "2                                               75.5                  \n",
       "3                                               95.5                  \n",
       "4                                               85.5                  \n",
       "\n",
       "[5 rows x 23 columns]"
      ]
     },
     "execution_count": 59,
     "metadata": {},
     "output_type": "execute_result"
    }
   ],
   "source": [
    "df.head()"
   ]
  },
  {
   "cell_type": "markdown",
   "id": "e617ef64f7664911",
   "metadata": {},
   "source": [
    "## Exploratory Data Analysis (EDA)"
   ]
  },
  {
   "cell_type": "markdown",
   "id": "22dd44a70b9e8b26",
   "metadata": {},
   "source": [
    "### 1. Bagaimana demografi dan latar belakang siswa yang menggunakan sistem pendidikan online?"
   ]
  },
  {
   "cell_type": "markdown",
   "id": "868d817aadfc9cf9",
   "metadata": {},
   "source": [
    "Berdasarkan:\n",
    "- Gender\n",
    "- Lokasi rumah\n",
    "- Level Edukasi\n",
    "- Usia\n",
    "- Status Ekonomi\n"
   ]
  },
  {
   "cell_type": "code",
   "execution_count": 60,
   "id": "e0dbea4dbcd0ac3b",
   "metadata": {
    "ExecuteTime": {
     "end_time": "2024-06-10T15:34:56.901203Z",
     "start_time": "2024-06-10T15:34:56.891981Z"
    }
   },
   "outputs": [
    {
     "data": {
      "text/html": [
       "<div>\n",
       "<style scoped>\n",
       "    .dataframe tbody tr th:only-of-type {\n",
       "        vertical-align: middle;\n",
       "    }\n",
       "\n",
       "    .dataframe tbody tr th {\n",
       "        vertical-align: top;\n",
       "    }\n",
       "\n",
       "    .dataframe thead th {\n",
       "        text-align: right;\n",
       "    }\n",
       "</style>\n",
       "<table border=\"1\" class=\"dataframe\">\n",
       "  <thead>\n",
       "    <tr style=\"text-align: right;\">\n",
       "      <th></th>\n",
       "      <th>Gender</th>\n",
       "      <th>Jumlah</th>\n",
       "    </tr>\n",
       "  </thead>\n",
       "  <tbody>\n",
       "    <tr>\n",
       "      <th>0</th>\n",
       "      <td>Female</td>\n",
       "      <td>419</td>\n",
       "    </tr>\n",
       "    <tr>\n",
       "      <th>1</th>\n",
       "      <td>Male</td>\n",
       "      <td>614</td>\n",
       "    </tr>\n",
       "  </tbody>\n",
       "</table>\n",
       "</div>"
      ],
      "text/plain": [
       "   Gender  Jumlah\n",
       "0  Female     419\n",
       "1    Male     614"
      ]
     },
     "execution_count": 60,
     "metadata": {},
     "output_type": "execute_result"
    }
   ],
   "source": [
    "# Mengelompokkan data berdasarkan gender\n",
    "gender_data = df.groupby('Gender').size().reset_index(name='Jumlah')\n",
    "gender_data"
   ]
  },
  {
   "cell_type": "code",
   "execution_count": 61,
   "id": "f642af861e59991f",
   "metadata": {
    "ExecuteTime": {
     "end_time": "2024-06-10T15:34:57.490634Z",
     "start_time": "2024-06-10T15:34:57.473133Z"
    }
   },
   "outputs": [
    {
     "data": {
      "text/html": [
       "<div>\n",
       "<style scoped>\n",
       "    .dataframe tbody tr th:only-of-type {\n",
       "        vertical-align: middle;\n",
       "    }\n",
       "\n",
       "    .dataframe tbody tr th {\n",
       "        vertical-align: top;\n",
       "    }\n",
       "\n",
       "    .dataframe thead th {\n",
       "        text-align: right;\n",
       "    }\n",
       "</style>\n",
       "<table border=\"1\" class=\"dataframe\">\n",
       "  <thead>\n",
       "    <tr style=\"text-align: right;\">\n",
       "      <th></th>\n",
       "      <th>Lokasi Rumah</th>\n",
       "      <th>Jumlah</th>\n",
       "    </tr>\n",
       "  </thead>\n",
       "  <tbody>\n",
       "    <tr>\n",
       "      <th>0</th>\n",
       "      <td>Rural</td>\n",
       "      <td>354</td>\n",
       "    </tr>\n",
       "    <tr>\n",
       "      <th>1</th>\n",
       "      <td>Urban</td>\n",
       "      <td>679</td>\n",
       "    </tr>\n",
       "  </tbody>\n",
       "</table>\n",
       "</div>"
      ],
      "text/plain": [
       "  Lokasi Rumah  Jumlah\n",
       "0        Rural     354\n",
       "1        Urban     679"
      ]
     },
     "execution_count": 61,
     "metadata": {},
     "output_type": "execute_result"
    }
   ],
   "source": [
    "# Mengelompokkan data berdasarkan lokasi rumah\n",
    "location_data = df.groupby('Home Location').size().reset_index().rename(columns={'Home Location': 'Lokasi Rumah', 0: 'Jumlah'})\n",
    "\n",
    "location_data"
   ]
  },
  {
   "cell_type": "code",
   "execution_count": 62,
   "id": "ecde79b845ba5795",
   "metadata": {
    "ExecuteTime": {
     "end_time": "2024-06-10T15:34:58.050631Z",
     "start_time": "2024-06-10T15:34:58.036412Z"
    }
   },
   "outputs": [
    {
     "data": {
      "text/html": [
       "<div>\n",
       "<style scoped>\n",
       "    .dataframe tbody tr th:only-of-type {\n",
       "        vertical-align: middle;\n",
       "    }\n",
       "\n",
       "    .dataframe tbody tr th {\n",
       "        vertical-align: top;\n",
       "    }\n",
       "\n",
       "    .dataframe thead th {\n",
       "        text-align: right;\n",
       "    }\n",
       "</style>\n",
       "<table border=\"1\" class=\"dataframe\">\n",
       "  <thead>\n",
       "    <tr style=\"text-align: right;\">\n",
       "      <th></th>\n",
       "      <th>Pendidikan</th>\n",
       "      <th>Jumlah</th>\n",
       "    </tr>\n",
       "  </thead>\n",
       "  <tbody>\n",
       "    <tr>\n",
       "      <th>0</th>\n",
       "      <td>Post Graduate</td>\n",
       "      <td>129</td>\n",
       "    </tr>\n",
       "    <tr>\n",
       "      <th>1</th>\n",
       "      <td>School</td>\n",
       "      <td>87</td>\n",
       "    </tr>\n",
       "    <tr>\n",
       "      <th>2</th>\n",
       "      <td>Under Graduate</td>\n",
       "      <td>817</td>\n",
       "    </tr>\n",
       "  </tbody>\n",
       "</table>\n",
       "</div>"
      ],
      "text/plain": [
       "       Pendidikan  Jumlah\n",
       "0   Post Graduate     129\n",
       "1          School      87\n",
       "2  Under Graduate     817"
      ]
     },
     "execution_count": 62,
     "metadata": {},
     "output_type": "execute_result"
    }
   ],
   "source": [
    "# Mengelompokkkan data berdasarkan level edukasi\n",
    "education_data = df.groupby('Level of Education').size().reset_index().rename(columns={'Level of Education': 'Pendidikan', 0: 'Jumlah'})\n",
    "\n",
    "education_data"
   ]
  },
  {
   "cell_type": "code",
   "execution_count": 63,
   "id": "fbaf886a2cddda63",
   "metadata": {
    "ExecuteTime": {
     "end_time": "2024-06-10T15:36:54.332483Z",
     "start_time": "2024-06-10T15:36:54.323629Z"
    }
   },
   "outputs": [],
   "source": [
    "# Membuat Interval Usia\n",
    "df['Age(Years)_interval'] = pd.cut(df['Age(Years)'], bins=[9, 15, 20, 25, 30, 35, 40], labels=['9-15', '16-20', '21-25', '26-30', '31-35', '36-40'])"
   ]
  },
  {
   "cell_type": "code",
   "execution_count": 64,
   "id": "433111596ae30670",
   "metadata": {
    "ExecuteTime": {
     "end_time": "2024-06-10T15:36:54.735149Z",
     "start_time": "2024-06-10T15:36:54.723338Z"
    }
   },
   "outputs": [
    {
     "data": {
      "text/html": [
       "<div>\n",
       "<style scoped>\n",
       "    .dataframe tbody tr th:only-of-type {\n",
       "        vertical-align: middle;\n",
       "    }\n",
       "\n",
       "    .dataframe tbody tr th {\n",
       "        vertical-align: top;\n",
       "    }\n",
       "\n",
       "    .dataframe thead th {\n",
       "        text-align: right;\n",
       "    }\n",
       "</style>\n",
       "<table border=\"1\" class=\"dataframe\">\n",
       "  <thead>\n",
       "    <tr style=\"text-align: right;\">\n",
       "      <th></th>\n",
       "      <th>Age(Years)_interval</th>\n",
       "      <th>Jumlah</th>\n",
       "    </tr>\n",
       "  </thead>\n",
       "  <tbody>\n",
       "    <tr>\n",
       "      <th>0</th>\n",
       "      <td>9-15</td>\n",
       "      <td>2</td>\n",
       "    </tr>\n",
       "    <tr>\n",
       "      <th>1</th>\n",
       "      <td>16-20</td>\n",
       "      <td>794</td>\n",
       "    </tr>\n",
       "    <tr>\n",
       "      <th>2</th>\n",
       "      <td>21-25</td>\n",
       "      <td>206</td>\n",
       "    </tr>\n",
       "    <tr>\n",
       "      <th>3</th>\n",
       "      <td>26-30</td>\n",
       "      <td>7</td>\n",
       "    </tr>\n",
       "    <tr>\n",
       "      <th>4</th>\n",
       "      <td>31-35</td>\n",
       "      <td>5</td>\n",
       "    </tr>\n",
       "    <tr>\n",
       "      <th>5</th>\n",
       "      <td>36-40</td>\n",
       "      <td>17</td>\n",
       "    </tr>\n",
       "  </tbody>\n",
       "</table>\n",
       "</div>"
      ],
      "text/plain": [
       "  Age(Years)_interval  Jumlah\n",
       "0                9-15       2\n",
       "1               16-20     794\n",
       "2               21-25     206\n",
       "3               26-30       7\n",
       "4               31-35       5\n",
       "5               36-40      17"
      ]
     },
     "execution_count": 64,
     "metadata": {},
     "output_type": "execute_result"
    }
   ],
   "source": [
    "# Mengelompokkan data berdasarkan usia\n",
    "age_data = df.groupby('Age(Years)_interval').size().reset_index().rename(columns={'Age(Years)': 'Usia', 0: 'Jumlah'})\n",
    "\n",
    "age_data"
   ]
  },
  {
   "cell_type": "code",
   "execution_count": 65,
   "id": "a5ddd4f8c917e9e9",
   "metadata": {
    "ExecuteTime": {
     "end_time": "2024-06-10T15:36:57.637598Z",
     "start_time": "2024-06-10T15:36:57.623305Z"
    }
   },
   "outputs": [
    {
     "data": {
      "text/html": [
       "<div>\n",
       "<style scoped>\n",
       "    .dataframe tbody tr th:only-of-type {\n",
       "        vertical-align: middle;\n",
       "    }\n",
       "\n",
       "    .dataframe tbody tr th {\n",
       "        vertical-align: top;\n",
       "    }\n",
       "\n",
       "    .dataframe thead th {\n",
       "        text-align: right;\n",
       "    }\n",
       "</style>\n",
       "<table border=\"1\" class=\"dataframe\">\n",
       "  <thead>\n",
       "    <tr style=\"text-align: right;\">\n",
       "      <th></th>\n",
       "      <th>Status Ekonomi</th>\n",
       "      <th>Jumlah</th>\n",
       "    </tr>\n",
       "  </thead>\n",
       "  <tbody>\n",
       "    <tr>\n",
       "      <th>0</th>\n",
       "      <td>Middle Class</td>\n",
       "      <td>954</td>\n",
       "    </tr>\n",
       "    <tr>\n",
       "      <th>1</th>\n",
       "      <td>Poor</td>\n",
       "      <td>49</td>\n",
       "    </tr>\n",
       "    <tr>\n",
       "      <th>2</th>\n",
       "      <td>Rich</td>\n",
       "      <td>30</td>\n",
       "    </tr>\n",
       "  </tbody>\n",
       "</table>\n",
       "</div>"
      ],
      "text/plain": [
       "  Status Ekonomi  Jumlah\n",
       "0   Middle Class     954\n",
       "1           Poor      49\n",
       "2           Rich      30"
      ]
     },
     "execution_count": 65,
     "metadata": {},
     "output_type": "execute_result"
    }
   ],
   "source": [
    "# Mengelompokkan data berdasarkan status ekonomi\n",
    "economic_data = df.groupby('Economic status').size().reset_index().rename(columns={'Economic status': 'Status Ekonomi', 0: 'Jumlah'})\n",
    "\n",
    "economic_data"
   ]
  },
  {
   "cell_type": "markdown",
   "id": "81f7737eca312986",
   "metadata": {},
   "source": [
    "### 2. Bagaimana skor performa pembelajaran online siswa dalam berbagai status ekonomi dan lokasi rumah (perkotaan vs pedesaan)?"
   ]
  },
  {
   "cell_type": "code",
   "execution_count": 66,
   "id": "b013b97c51d29a89",
   "metadata": {
    "ExecuteTime": {
     "end_time": "2024-06-10T14:48:20.602080Z",
     "start_time": "2024-06-10T14:48:20.586198Z"
    }
   },
   "outputs": [
    {
     "data": {
      "text/html": [
       "<div>\n",
       "<style scoped>\n",
       "    .dataframe tbody tr th:only-of-type {\n",
       "        vertical-align: middle;\n",
       "    }\n",
       "\n",
       "    .dataframe tbody tr th {\n",
       "        vertical-align: top;\n",
       "    }\n",
       "\n",
       "    .dataframe thead th {\n",
       "        text-align: right;\n",
       "    }\n",
       "</style>\n",
       "<table border=\"1\" class=\"dataframe\">\n",
       "  <thead>\n",
       "    <tr style=\"text-align: right;\">\n",
       "      <th></th>\n",
       "      <th>Status Ekonomi</th>\n",
       "      <th>Lokasi Rumah</th>\n",
       "      <th>Rata-rata Performa Online</th>\n",
       "    </tr>\n",
       "  </thead>\n",
       "  <tbody>\n",
       "    <tr>\n",
       "      <th>0</th>\n",
       "      <td>Poor</td>\n",
       "      <td>Rural</td>\n",
       "      <td>6.485714</td>\n",
       "    </tr>\n",
       "    <tr>\n",
       "      <th>1</th>\n",
       "      <td>Poor</td>\n",
       "      <td>Urban</td>\n",
       "      <td>6.071429</td>\n",
       "    </tr>\n",
       "    <tr>\n",
       "      <th>2</th>\n",
       "      <td>Middle Class</td>\n",
       "      <td>Rural</td>\n",
       "      <td>6.721519</td>\n",
       "    </tr>\n",
       "    <tr>\n",
       "      <th>3</th>\n",
       "      <td>Middle Class</td>\n",
       "      <td>Urban</td>\n",
       "      <td>6.680251</td>\n",
       "    </tr>\n",
       "    <tr>\n",
       "      <th>4</th>\n",
       "      <td>Rich</td>\n",
       "      <td>Rural</td>\n",
       "      <td>9.000000</td>\n",
       "    </tr>\n",
       "    <tr>\n",
       "      <th>5</th>\n",
       "      <td>Rich</td>\n",
       "      <td>Urban</td>\n",
       "      <td>7.111111</td>\n",
       "    </tr>\n",
       "  </tbody>\n",
       "</table>\n",
       "</div>"
      ],
      "text/plain": [
       "  Status Ekonomi Lokasi Rumah  Rata-rata Performa Online\n",
       "0           Poor        Rural                   6.485714\n",
       "1           Poor        Urban                   6.071429\n",
       "2   Middle Class        Rural                   6.721519\n",
       "3   Middle Class        Urban                   6.680251\n",
       "4           Rich        Rural                   9.000000\n",
       "5           Rich        Urban                   7.111111"
      ]
     },
     "execution_count": 66,
     "metadata": {},
     "output_type": "execute_result"
    }
   ],
   "source": [
    "# Mengelompokkan data berdasarkan status ekonomi dan lokasi rumah\n",
    "df['Economic status'] = pd.Categorical(df['Economic status'], categories=['Poor', 'Middle Class', 'Rich'], ordered=True)\n",
    "\n",
    "performance_data = (df.groupby(['Economic status', 'Home Location'])\n",
    "                    .agg({'Performance in online': 'mean'})\n",
    "                    .reset_index().sort_values('Economic status', ascending=True)\n",
    "                    .rename(columns={\n",
    "    'Performance in online': 'Rata-rata Performa Online',\n",
    "    'Economic status': 'Status Ekonomi',\n",
    "    'Home Location': 'Lokasi Rumah'\n",
    "}))\n",
    "\n",
    "performance_data"
   ]
  },
  {
   "cell_type": "markdown",
   "id": "eab9764a292460d1",
   "metadata": {},
   "source": [
    "### 3. Bagaimana kualitas fasilitas internet berdampak pada performa siswa secara keseluruhan?"
   ]
  },
  {
   "cell_type": "code",
   "execution_count": 67,
   "id": "b5ee4f8feaa8746d",
   "metadata": {
    "ExecuteTime": {
     "end_time": "2024-06-10T14:48:21.002156Z",
     "start_time": "2024-06-10T14:48:20.991850Z"
    }
   },
   "outputs": [
    {
     "data": {
      "text/html": [
       "<div>\n",
       "<style scoped>\n",
       "    .dataframe tbody tr th:only-of-type {\n",
       "        vertical-align: middle;\n",
       "    }\n",
       "\n",
       "    .dataframe tbody tr th {\n",
       "        vertical-align: top;\n",
       "    }\n",
       "\n",
       "    .dataframe thead th {\n",
       "        text-align: right;\n",
       "    }\n",
       "</style>\n",
       "<table border=\"1\" class=\"dataframe\">\n",
       "  <thead>\n",
       "    <tr style=\"text-align: right;\">\n",
       "      <th></th>\n",
       "      <th>Kualitas Fasilitas Internet (skala 1-5)</th>\n",
       "      <th>Rata-rata Performa Online</th>\n",
       "    </tr>\n",
       "  </thead>\n",
       "  <tbody>\n",
       "    <tr>\n",
       "      <th>0</th>\n",
       "      <td>1</td>\n",
       "      <td>5.562500</td>\n",
       "    </tr>\n",
       "    <tr>\n",
       "      <th>1</th>\n",
       "      <td>2</td>\n",
       "      <td>6.155963</td>\n",
       "    </tr>\n",
       "    <tr>\n",
       "      <th>2</th>\n",
       "      <td>3</td>\n",
       "      <td>6.279141</td>\n",
       "    </tr>\n",
       "    <tr>\n",
       "      <th>3</th>\n",
       "      <td>4</td>\n",
       "      <td>6.895184</td>\n",
       "    </tr>\n",
       "    <tr>\n",
       "      <th>4</th>\n",
       "      <td>5</td>\n",
       "      <td>7.450704</td>\n",
       "    </tr>\n",
       "  </tbody>\n",
       "</table>\n",
       "</div>"
      ],
      "text/plain": [
       "   Kualitas Fasilitas Internet (skala 1-5)  Rata-rata Performa Online\n",
       "0                                        1                   5.562500\n",
       "1                                        2                   6.155963\n",
       "2                                        3                   6.279141\n",
       "3                                        4                   6.895184\n",
       "4                                        5                   7.450704"
      ]
     },
     "execution_count": 67,
     "metadata": {},
     "output_type": "execute_result"
    }
   ],
   "source": [
    "# Mengelompokkan data berdasarkan kualitas fasilitas internet\n",
    "internet_facility_data = (df.groupby('Internet facility in your locality')\n",
    "                          .agg({'Performance in online': 'mean'})\n",
    "                          .reset_index()\n",
    "                          .rename(columns={\n",
    "    \n",
    "    'Internet facility in your locality': 'Kualitas Fasilitas Internet (skala 1-5)',\n",
    "    'Performance in online': 'Rata-rata Performa Online'\n",
    "}))\n",
    "\n",
    "internet_facility_data"
   ]
  },
  {
   "cell_type": "markdown",
   "id": "0473da85",
   "metadata": {},
   "source": [
    "### 4. Bagaimana waktu yang siswa gunakan untuk belajar dan bermain sosial media berdampak pada performa siswa secara keseluruhan?"
   ]
  },
  {
   "cell_type": "code",
   "execution_count": 69,
   "id": "e577515b",
   "metadata": {},
   "outputs": [
    {
     "data": {
      "text/html": [
       "<div>\n",
       "<style scoped>\n",
       "    .dataframe tbody tr th:only-of-type {\n",
       "        vertical-align: middle;\n",
       "    }\n",
       "\n",
       "    .dataframe tbody tr th {\n",
       "        vertical-align: top;\n",
       "    }\n",
       "\n",
       "    .dataframe thead th {\n",
       "        text-align: right;\n",
       "    }\n",
       "</style>\n",
       "<table border=\"1\" class=\"dataframe\">\n",
       "  <thead>\n",
       "    <tr style=\"text-align: right;\">\n",
       "      <th></th>\n",
       "      <th>Waktu Bermain Media Sosial (Jam)</th>\n",
       "      <th>Rata-rata Performa Online</th>\n",
       "    </tr>\n",
       "  </thead>\n",
       "  <tbody>\n",
       "    <tr>\n",
       "      <th>0</th>\n",
       "      <td>1</td>\n",
       "      <td>6.717687</td>\n",
       "    </tr>\n",
       "    <tr>\n",
       "      <th>1</th>\n",
       "      <td>2</td>\n",
       "      <td>6.755882</td>\n",
       "    </tr>\n",
       "    <tr>\n",
       "      <th>2</th>\n",
       "      <td>3</td>\n",
       "      <td>6.773481</td>\n",
       "    </tr>\n",
       "    <tr>\n",
       "      <th>3</th>\n",
       "      <td>4</td>\n",
       "      <td>6.760870</td>\n",
       "    </tr>\n",
       "    <tr>\n",
       "      <th>4</th>\n",
       "      <td>5</td>\n",
       "      <td>6.775510</td>\n",
       "    </tr>\n",
       "    <tr>\n",
       "      <th>5</th>\n",
       "      <td>6</td>\n",
       "      <td>6.269231</td>\n",
       "    </tr>\n",
       "    <tr>\n",
       "      <th>6</th>\n",
       "      <td>7</td>\n",
       "      <td>7.000000</td>\n",
       "    </tr>\n",
       "    <tr>\n",
       "      <th>7</th>\n",
       "      <td>8</td>\n",
       "      <td>6.187500</td>\n",
       "    </tr>\n",
       "    <tr>\n",
       "      <th>8</th>\n",
       "      <td>9</td>\n",
       "      <td>5.500000</td>\n",
       "    </tr>\n",
       "    <tr>\n",
       "      <th>9</th>\n",
       "      <td>10</td>\n",
       "      <td>5.105263</td>\n",
       "    </tr>\n",
       "  </tbody>\n",
       "</table>\n",
       "</div>"
      ],
      "text/plain": [
       "   Waktu Bermain Media Sosial (Jam)  Rata-rata Performa Online\n",
       "0                                 1                   6.717687\n",
       "1                                 2                   6.755882\n",
       "2                                 3                   6.773481\n",
       "3                                 4                   6.760870\n",
       "4                                 5                   6.775510\n",
       "5                                 6                   6.269231\n",
       "6                                 7                   7.000000\n",
       "7                                 8                   6.187500\n",
       "8                                 9                   5.500000\n",
       "9                                10                   5.105263"
      ]
     },
     "execution_count": 69,
     "metadata": {},
     "output_type": "execute_result"
    }
   ],
   "source": [
    "# Mengelompokkan data berdasarkan waktu yang diberikan untuk bermain sosmed\n",
    "social_media_data = (df.groupby('Time spent on social media (Hours)')\n",
    "                          .agg({'Performance in online': 'mean'})\n",
    "                          .reset_index()\n",
    "                          .rename(columns={\n",
    "    \n",
    "    'Time spent on social media (Hours)': 'Waktu Bermain Media Sosial (Jam)',\n",
    "    'Performance in online': 'Rata-rata Performa Online'\n",
    "}))\n",
    "\n",
    "social_media_data"
   ]
  },
  {
   "cell_type": "markdown",
   "id": "87dd0d10",
   "metadata": {},
   "source": []
  },
  {
   "cell_type": "markdown",
   "id": "014b7074",
   "metadata": {},
   "source": [
    "### 5. Bagaimana interaksi siswa pada mode online berpengaruh pada performa siswa secara keseluruhan?"
   ]
  },
  {
   "cell_type": "code",
   "execution_count": 70,
   "id": "d62de805",
   "metadata": {},
   "outputs": [
    {
     "data": {
      "text/html": [
       "<div>\n",
       "<style scoped>\n",
       "    .dataframe tbody tr th:only-of-type {\n",
       "        vertical-align: middle;\n",
       "    }\n",
       "\n",
       "    .dataframe tbody tr th {\n",
       "        vertical-align: top;\n",
       "    }\n",
       "\n",
       "    .dataframe thead th {\n",
       "        text-align: right;\n",
       "    }\n",
       "</style>\n",
       "<table border=\"1\" class=\"dataframe\">\n",
       "  <thead>\n",
       "    <tr style=\"text-align: right;\">\n",
       "      <th></th>\n",
       "      <th>Interaksi Pada Mode Online</th>\n",
       "      <th>Rata-rata Performa Online</th>\n",
       "    </tr>\n",
       "  </thead>\n",
       "  <tbody>\n",
       "    <tr>\n",
       "      <th>0</th>\n",
       "      <td>1</td>\n",
       "      <td>4.852713</td>\n",
       "    </tr>\n",
       "    <tr>\n",
       "      <th>1</th>\n",
       "      <td>2</td>\n",
       "      <td>6.015873</td>\n",
       "    </tr>\n",
       "    <tr>\n",
       "      <th>2</th>\n",
       "      <td>3</td>\n",
       "      <td>6.616628</td>\n",
       "    </tr>\n",
       "    <tr>\n",
       "      <th>3</th>\n",
       "      <td>4</td>\n",
       "      <td>7.671958</td>\n",
       "    </tr>\n",
       "    <tr>\n",
       "      <th>4</th>\n",
       "      <td>5</td>\n",
       "      <td>9.021505</td>\n",
       "    </tr>\n",
       "  </tbody>\n",
       "</table>\n",
       "</div>"
      ],
      "text/plain": [
       "   Interaksi Pada Mode Online  Rata-rata Performa Online\n",
       "0                           1                   4.852713\n",
       "1                           2                   6.015873\n",
       "2                           3                   6.616628\n",
       "3                           4                   7.671958\n",
       "4                           5                   9.021505"
      ]
     },
     "execution_count": 70,
     "metadata": {},
     "output_type": "execute_result"
    }
   ],
   "source": [
    "# Mengelompokkan data berdasarkan waktu yang diberikan untuk belajar\n",
    "student_interaction_data = (df.groupby('Your interaction in online mode')\n",
    "                          .agg({'Performance in online': 'mean'})\n",
    "                          .reset_index()\n",
    "                          .rename(columns={\n",
    "    \n",
    "    'Your interaction in online mode': 'Interaksi Pada Mode Online',\n",
    "    'Performance in online': 'Rata-rata Performa Online'\n",
    "}))\n",
    "\n",
    "student_interaction_data"
   ]
  },
  {
   "cell_type": "markdown",
   "id": "456159089d99ac70",
   "metadata": {},
   "source": [
    "## Data Visualization"
   ]
  },
  {
   "cell_type": "markdown",
   "id": "eb9994c2b3a72dd5",
   "metadata": {},
   "source": []
  },
  {
   "cell_type": "markdown",
   "id": "7fcba3a9849554",
   "metadata": {},
   "source": [
    "### 1. Bagaimana demografi dan latar belakang siswa yang menggunakan sistem pendidikan online?"
   ]
  },
  {
   "cell_type": "markdown",
   "id": "2cc3c3b8ed87ce2d",
   "metadata": {},
   "source": [
    "*Gender*"
   ]
  },
  {
   "cell_type": "code",
   "execution_count": 71,
   "id": "a79243ab036a1135",
   "metadata": {
    "ExecuteTime": {
     "end_time": "2024-06-10T14:48:21.642459Z",
     "start_time": "2024-06-10T14:48:21.632493Z"
    }
   },
   "outputs": [],
   "source": [
    "# Menghitung jumlah siswa berdasarkan Gender\n",
    "gender_df = df['Gender'].value_counts()\n",
    "gender_df.rename(index={'Male' : \"Pria\", \"Female\": \"Wanita\"}, inplace=True)"
   ]
  },
  {
   "cell_type": "code",
   "execution_count": 72,
   "id": "5302222a3efab1c9",
   "metadata": {
    "ExecuteTime": {
     "end_time": "2024-06-10T14:48:22.084670Z",
     "start_time": "2024-06-10T14:48:21.992862Z"
    }
   },
   "outputs": [
    {
     "data": {
      "image/png": "[encoded data removed]",
      "text/plain": [
       "<Figure size 1000x600 with 1 Axes>"
      ]
     },
     "metadata": {},
     "output_type": "display_data"
    }
   ],
   "source": [
    "# Plotting pie chart\n",
    "plt.figure(figsize=(10, 6))\n",
    "plt.pie(gender_df, labels=gender_df.index, autopct='%1.1f%%', startangle=90, colors=['#ff9999', '#66b3ff'])\n",
    "plt.title(\"Persentase Siswa Berdasarkan Gender\")\n",
    "plt.show()"
   ]
  },
  {
   "cell_type": "markdown",
   "id": "29dfc3c734952968",
   "metadata": {},
   "source": [
    "*Lokasi Rumah*"
   ]
  },
  {
   "cell_type": "code",
   "execution_count": 73,
   "id": "f6d482fff6c151d4",
   "metadata": {
    "ExecuteTime": {
     "end_time": "2024-06-10T14:48:22.376653Z",
     "start_time": "2024-06-10T14:48:22.366619Z"
    }
   },
   "outputs": [],
   "source": [
    "location_df = df['Home Location'].value_counts()\n",
    "location_df.rename(index={'Urban': 'Perkotaan', 'Rural': 'Pedesaan'}, inplace=True)"
   ]
  },
  {
   "cell_type": "code",
   "execution_count": 74,
   "id": "ac06741d3f941897",
   "metadata": {
    "ExecuteTime": {
     "end_time": "2024-06-10T14:48:22.516622Z",
     "start_time": "2024-06-10T14:48:22.441804Z"
    }
   },
   "outputs": [
    {
     "data": {
      "image/png": "[encoded data removed]",
      "text/plain": [
       "<Figure size 1000x600 with 1 Axes>"
      ]
     },
     "metadata": {},
     "output_type": "display_data"
    }
   ],
   "source": [
    "# Plotting pie chart\n",
    "plt.figure(figsize=(10, 6))\n",
    "plt.pie(location_df, labels=location_df.index, autopct='%1.1f%%', startangle=90, colors=['#ff9999', '#66b3ff'])\n",
    "plt.title(\"Persentase Siswa Berdasarkan Lokasi Rumah\")\n",
    "plt.show()"
   ]
  },
  {
   "cell_type": "markdown",
   "id": "b871b649b97f7348",
   "metadata": {},
   "source": [
    "*Tingkat Edukasi*"
   ]
  },
  {
   "cell_type": "code",
   "execution_count": 75,
   "id": "5ca21064d7033ac8",
   "metadata": {
    "ExecuteTime": {
     "end_time": "2024-06-10T14:48:22.833166Z",
     "start_time": "2024-06-10T14:48:22.826794Z"
    }
   },
   "outputs": [],
   "source": [
    "education_df = df['Level of Education'].value_counts()"
   ]
  },
  {
   "cell_type": "code",
   "execution_count": 76,
   "id": "ee1bd1237645dd59",
   "metadata": {
    "ExecuteTime": {
     "end_time": "2024-06-10T14:48:23.274670Z",
     "start_time": "2024-06-10T14:48:23.052918Z"
    }
   },
   "outputs": [
    {
     "data": {
      "image/png": "[encoded data removed]",
      "text/plain": [
       "<Figure size 1000x600 with 1 Axes>"
      ]
     },
     "metadata": {},
     "output_type": "display_data"
    }
   ],
   "source": [
    "# Visualisasi\n",
    "plt.figure(figsize=(10, 6))\n",
    "sns.barplot(hue=education_df.index, y=education_df.values, palette='viridis')\n",
    "plt.title(\"Jumlah Siswa Berdasarkan Tingkat Edukasi\")\n",
    "plt.xlabel(\"Tingkat Edukasi\")\n",
    "plt.ylabel(\"Jumlah\")\n",
    "plt.show()"
   ]
  },
  {
   "cell_type": "markdown",
   "id": "b22c938aecb76af4",
   "metadata": {},
   "source": [
    "*Usia*"
   ]
  },
  {
   "cell_type": "code",
   "execution_count": 77,
   "id": "b7d3ac035544984c",
   "metadata": {
    "ExecuteTime": {
     "end_time": "2024-06-10T15:38:12.618865Z",
     "start_time": "2024-06-10T15:38:12.613123Z"
    }
   },
   "outputs": [],
   "source": [
    "age_df = df['Age(Years)_interval'].value_counts().sort_index()"
   ]
  },
  {
   "cell_type": "code",
   "execution_count": 78,
   "id": "43cb38390d74a5e",
   "metadata": {
    "ExecuteTime": {
     "end_time": "2024-06-10T15:38:13.703267Z",
     "start_time": "2024-06-10T15:38:13.506901Z"
    }
   },
   "outputs": [
    {
     "data": {
      "image/png": "[encoded data removed]",
      "text/plain": [
       "<Figure size 1000x600 with 1 Axes>"
      ]
     },
     "metadata": {},
     "output_type": "display_data"
    }
   ],
   "source": [
    "# Visualisasi\n",
    "plt.figure(figsize=(10, 6))\n",
    "sns.barplot(x=age_df.index, y=age_df.values, palette='viridis')\n",
    "plt.title(\"Jumlah Siswa Berdasarkan Interval Usia\")\n",
    "plt.xlabel(\"Usia\")\n",
    "plt.ylabel(\"Jumlah\")\n",
    "plt.show()"
   ]
  },
  {
   "cell_type": "markdown",
   "id": "7f4388699eef4c96",
   "metadata": {},
   "source": [
    "*Status Ekonomi*"
   ]
  },
  {
   "cell_type": "code",
   "execution_count": 79,
   "id": "29ead619cc9d86c4",
   "metadata": {
    "ExecuteTime": {
     "end_time": "2024-06-10T14:48:24.714540Z",
     "start_time": "2024-06-10T14:48:24.708136Z"
    }
   },
   "outputs": [],
   "source": [
    "economic_df = df['Economic status'].value_counts()"
   ]
  },
  {
   "cell_type": "code",
   "execution_count": 80,
   "id": "57e5de60540ef312",
   "metadata": {
    "ExecuteTime": {
     "end_time": "2024-06-10T14:48:25.045345Z",
     "start_time": "2024-06-10T14:48:24.881857Z"
    }
   },
   "outputs": [
    {
     "data": {
      "image/png": "[encoded data removed]",
      "text/plain": [
       "<Figure size 1000x600 with 1 Axes>"
      ]
     },
     "metadata": {},
     "output_type": "display_data"
    }
   ],
   "source": [
    "# Visualisasi\n",
    "plt.figure(figsize=(10, 6))\n",
    "sns.barplot(x=economic_df.index, y=economic_df.values, palette='viridis')\n",
    "plt.title(\"Jumlah Siswa Berdasarkan Status Ekonomi\")\n",
    "plt.xlabel(\"Status Ekonomi\")\n",
    "plt.ylabel(\"Jumlah\")\n",
    "plt.show()"
   ]
  },
  {
   "cell_type": "markdown",
   "id": "5f2a6acc70210837",
   "metadata": {},
   "source": [
    "### 2. Bagaimana skor performa pembelajaran online siswa dalam berbagai status ekonomi dan lokasi rumah (perkotaan vs pedesaan)?"
   ]
  },
  {
   "cell_type": "code",
   "execution_count": 81,
   "id": "98f0cb84528c7747",
   "metadata": {
    "ExecuteTime": {
     "end_time": "2024-06-10T14:48:25.273553Z",
     "start_time": "2024-06-10T14:48:25.251856Z"
    }
   },
   "outputs": [],
   "source": [
    "# Ubah data menjadi format pivot\n",
    "pivot_data = performance_data.pivot_table(index='Status Ekonomi', columns='Lokasi Rumah', values='Rata-rata Performa Online')"
   ]
  },
  {
   "cell_type": "code",
   "execution_count": 82,
   "id": "5bd1d0f541254c31",
   "metadata": {
    "ExecuteTime": {
     "end_time": "2024-06-10T14:48:25.601851Z",
     "start_time": "2024-06-10T14:48:25.401886Z"
    }
   },
   "outputs": [
    {
     "data": {
      "image/png": "[encoded data removed]",
      "text/plain": [
       "<Figure size 1000x600 with 2 Axes>"
      ]
     },
     "metadata": {},
     "output_type": "display_data"
    }
   ],
   "source": [
    "# Visualisasi\n",
    "class_order = ['Poor', 'Middle Class', 'Rich']\n",
    "\n",
    "plt.figure(figsize=(10, 6))\n",
    "sns.heatmap(pivot_data, annot=True, cmap='viridis', fmt='.2f')\n",
    "plt.title(\"Rerata Performa Online Siswa Berdasarkan Status Ekonomi dan Lokasi Rumah (Skala 1-10)\")\n",
    "plt.show()"
   ]
  },
  {
   "cell_type": "markdown",
   "id": "34e24858b4ca8b04",
   "metadata": {},
   "source": [
    "### 3. Bagaimana kualitas fasilitas internet berdampak pada performa siswa secara keseluruhan?"
   ]
  },
  {
   "cell_type": "code",
   "execution_count": 83,
   "id": "7e39cd874b85e446",
   "metadata": {
    "ExecuteTime": {
     "end_time": "2024-06-10T15:47:32.734241Z",
     "start_time": "2024-06-10T15:47:32.540758Z"
    }
   },
   "outputs": [
    {
     "data": {
      "image/png": "[encoded data removed]",
      "text/plain": [
       "<Figure size 1000x600 with 1 Axes>"
      ]
     },
     "metadata": {},
     "output_type": "display_data"
    }
   ],
   "source": [
    "# Visualisasi\n",
    "plt.figure(figsize=(10, 6))\n",
    "sns.barplot(x='Kualitas Fasilitas Internet (skala 1-5)', y='Rata-rata Performa Online', data=internet_facility_data, palette='viridis')\n",
    "plt.title(\"Rata-rata Performa Online Siswa Berdasarkan Kualitas Fasilitas Internet (1-10)\")\n",
    "plt.xlabel(\"Kualitas Fasilitas Internet (skala 1-5 dari terendah ke tertinggi)\")\n",
    "plt.ylabel(\"Rata-rata Performa Online\")\n",
    "plt.show()"
   ]
  },
  {
   "cell_type": "markdown",
   "id": "ba1187ca",
   "metadata": {},
   "source": [
    "### 4. Bagaimana waktu yang siswa gunakan untuk belajar dan bermain sosial media berdampak pada performa siswa secara keseluruhan?"
   ]
  },
  {
   "cell_type": "code",
   "execution_count": 86,
   "id": "6b9fa369",
   "metadata": {},
   "outputs": [
    {
     "data": {
      "image/png": "[encoded data removed]",
      "text/plain": [
       "<Figure size 1000x600 with 1 Axes>"
      ]
     },
     "metadata": {},
     "output_type": "display_data"
    }
   ],
   "source": [
    "# Visualisasi\n",
    "plt.figure(figsize=(10, 6))\n",
    "sns.barplot(x='Waktu Bermain Media Sosial (Jam)', y='Rata-rata Performa Online', data=social_media_data, palette='viridis')\n",
    "plt.title(\"Rata-rata Performa Online Siswa Berdasarkan Waktu yang Diberikan Siswa Untuk Belajar\")\n",
    "plt.xlabel(\"Waktu Bermain Sosial Media (Jam)\")\n",
    "plt.ylabel(\"Rata-rata Performa Online\")\n",
    "plt.show()"
   ]
  },
  {
   "cell_type": "markdown",
   "id": "7d029499",
   "metadata": {},
   "source": [
    "### 5. Bagaimana interaksi siswa pada mode online berpengaruh pada performa siswa secara keseluruhan?"
   ]
  },
  {
   "cell_type": "code",
   "execution_count": 87,
   "id": "55d768c9",
   "metadata": {},
   "outputs": [
    {
     "data": {
      "image/png": "[encoded data removed]",
      "text/plain": [
       "<Figure size 1000x600 with 1 Axes>"
      ]
     },
     "metadata": {},
     "output_type": "display_data"
    }
   ],
   "source": [
    "# Visualisasi\n",
    "plt.figure(figsize=(10, 6))\n",
    "sns.barplot(x='Interaksi Pada Mode Online', y='Rata-rata Performa Online', data=student_interaction_data, palette='viridis')\n",
    "plt.title(\"Rata-rata Performa Online Siswa Berdasarkan Waktu yang Diberikan Siswa Untuk Belajar\")\n",
    "plt.xlabel(\"Interaksi Pada Mode Online\")\n",
    "plt.ylabel(\"Rata-rata Performa Online\")\n",
    "plt.show()"
   ]
  },
  {
   "cell_type": "markdown",
   "id": "8ecde53b70a780f2",
   "metadata": {},
   "source": [
    "## Conclusion"
   ]
  },
  {
   "cell_type": "markdown",
   "id": "f4c11435ce35864c",
   "metadata": {},
   "source": [
    "1. Berdasarkan analisis demografi dan latar belakang siswa yang menggunakan sistem pendidikan online, didapatkan:\n",
    "    - Persentase siswa berdasarkan gender: Pria (59.4%), Wanita (40.6%).\n",
    "    - Persentase siswa berdasarkan lokasi rumah: Perkotaan (65.7%), Pedesaan (34.3%).\n",
    "    - Jumlah siswa berdasarkan tingkat edukasi: School (87), Under Graduate (817), dan Post Graduate (129).\n",
    "    - Jumlah siswa berdasarkan interval usia: 9-15 (2), 16-20 (794), 21-25 (206), 26-30 (7), 31-35 (5), dan 36-40 (17).\n",
    "    - Jumlah siswa berdasarkan status ekonomi: Poor (49), Middle Class (954), dan Rich (30).\n",
    "    \n",
    "2. Berdasarkan analisis skor performa pembelajaran online siswa dalam berbagai status ekonomi dan lokasi rumah, didapatkan:\n",
    "    - Kurang Mampu & Perkotaan (6.07), Kurang Mampu & Pedesaan (6.49)\n",
    "    - Menengah & Perkotaan (6.68), Menengah & Pedesaan (6.72)\n",
    "    - Kaya & Perkotaan (7.11), Kaya & Pedesaan (9.00)\n",
    "\n",
    "3. Berdasarkan analisis kualitas fasilitas internet berdampak pada performa siswa secara keseluruhan, didapatkan bahwa semakin tinggi kualitas fasilitas internet, semakin tinggi pula rata-rata performa online siswa.\n",
    "\n",
    "4. Berdasarkan analisis waktu yang digunakan siswa untuk bermain media sosial berdampak pada performa siswa secara keseluruhan, didapatkan bahwa semakin sedikit waktu yang digunakan siswa untuk bermain sosial media, performa yang didapatkan semain tinggi.\n",
    "\n",
    "5. Berdasarkan analisis interaksi siswa pada mode online berdampak pada performa siswa secara keseluruhan, didapatkan bahwa semakin tinggi nilai interaksi siswa pada mode online, semakin tinggi pula performa online siswa."
   ]
  }
 ],
 "metadata": {
  "kernelspec": {
   "display_name": "Python 3",
   "language": "python",
   "name": "python3"
  },
  "language_info": {
   "codemirror_mode": {
    "name": "ipython",
    "version": 3
   },
   "file_extension": ".py",
   "mimetype": "text/x-python",
   "name": "python",
   "nbconvert_exporter": "python",
   "pygments_lexer": "ipython3",
   "version": "3.12.2"
  }
 },
 "nbformat": 4,
 "nbformat_minor": 5
}
